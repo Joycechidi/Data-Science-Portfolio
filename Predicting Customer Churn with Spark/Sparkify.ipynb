{
 "cells": [
  {
   "cell_type": "code",
   "execution_count": 1,
   "metadata": {
    "scrolled": true
   },
   "outputs": [
    {
     "name": "stdout",
     "output_type": "stream",
     "text": [
      "Waiting for a Spark session to start...\n",
      "Spark Initialization Done! ApplicationId = app-20200325042410-0001\n",
      "KERNEL_ID = 1c7481be-a4d1-45f0-8b97-eb648c2b28b8\n"
     ]
    }
   ],
   "source": [
    "\n",
    "import ibmos2spark\n",
    "# @hidden_cell\n",
    "credentials = {\n",
    "    'endpoint': 'https://s3-api.us-geo.objectstorage.service.networklayer.com',\n",
    "    'service_id': 'iam-ServiceId-b475155b-bbba-4ff0-870f-ba74738d9ed8',\n",
    "    'iam_service_endpoint': 'https://iam.ng.bluemix.net/oidc/token',\n",
    "    'api_key': '1ls3Z7jCl6h8x6Bwm91ZbZsRGbCBg7PzamaXhOGqRWkO'\n",
    "}\n",
    "\n",
    "configuration_name = 'os_92fcb5354ce74da3be6f2563692e642a_configs'\n",
    "cos = ibmos2spark.CloudObjectStorage(sc, credentials, configuration_name, 'bluemix_cos')\n",
    "\n",
    "from pyspark.sql import SparkSession\n",
    "spark = SparkSession.builder.getOrCreate()\n",
    "# Since JSON data can be semi-structured and contain additional metadata, it is possible that you might face issues with the DataFrame layout.\n",
    "# Please read the documentation of 'SparkSession.read()' to learn more about the possibilities to adjust the data loading.\n",
    "# PySpark documentation: http://spark.apache.org/docs/2.0.2/api/python/pyspark.sql.html#pyspark.sql.DataFrameReader.json\n",
    "\n",
    "# df_data_1 = spark.read.json(cos.url('medium-sparkify-event-data.json', 'sparkify-donotdelete-pr-wdfnofq36jg14o'))\n",
    "# df_data_1.take(5)\n"
   ]
  },
  {
   "cell_type": "code",
   "execution_count": 2,
   "metadata": {},
   "outputs": [],
   "source": [
    "from pyspark.sql import SparkSession\n",
    "from pyspark.sql.types import IntegerType, LongType\n",
    "from pyspark.sql.functions import desc, explode, udf, lit, col, isnull, avg, min, max, stddev, split, concat\n",
    "from pyspark.sql import Window\n",
    "\n",
    "from pyspark.ml import Pipeline\n",
    "from pyspark.ml.classification import LogisticRegression, RandomForestClassifier, GBTClassifier\n",
    "from pyspark.ml.evaluation import MulticlassClassificationEvaluator\n",
    "from pyspark.ml.feature import StandardScaler, VectorAssembler\n",
    "from pyspark.ml.tuning import CrossValidator, ParamGridBuilder\n",
    "\n",
    "import re\n",
    "import pandas as pd\n",
    "import matplotlib.pyplot as plt\n",
    "import seaborn as sb\n",
    "import datetime\n",
    "from time import time"
   ]
  },
  {
   "cell_type": "code",
   "execution_count": 3,
   "metadata": {},
   "outputs": [],
   "source": [
    "spark = SparkSession.builder.appName(\"Sparkify-Project\").getOrCreate()"
   ]
  },
  {
   "cell_type": "markdown",
   "metadata": {},
   "source": [
    "### Load and Clean Dataset\n",
    "In this workspace, the mini-dataset file is mini_sparkify_event_data.json. Load and clean the dataset, checking for invalid or missing data - for example, records without userids or sessionids."
   ]
  },
  {
   "cell_type": "code",
   "execution_count": 4,
   "metadata": {},
   "outputs": [
    {
     "data": {
      "text/plain": [
       "DataFrame[artist: string, auth: string, firstName: string, gender: string, itemInSession: bigint, lastName: string, length: double, level: string, location: string, method: string, page: string, registration: bigint, sessionId: bigint, song: string, status: bigint, ts: bigint, userAgent: string, userId: string]"
      ]
     },
     "execution_count": 4,
     "metadata": {},
     "output_type": "execute_result"
    }
   ],
   "source": [
    "df = spark.read.json(cos.url('medium-sparkify-event-data.json', 'sparkify-donotdelete-pr-wdfnofq36jg14o'))\n",
    "df.persist()"
   ]
  },
  {
   "cell_type": "code",
   "execution_count": 5,
   "metadata": {},
   "outputs": [
    {
     "data": {
      "text/plain": [
       "[Row(artist='Martin Orford', auth='Logged In', firstName='Joseph', gender='M', itemInSession=20, lastName='Morales', length=597.55057, level='free', location='Corpus Christi, TX', method='PUT', page='NextSong', registration=1532063507000, sessionId=292, song='Grand Designs', status=200, ts=1538352011000, userAgent='\"Mozilla/5.0 (Macintosh; Intel Mac OS X 10_9_4) AppleWebKit/537.36 (KHTML, like Gecko) Chrome/36.0.1985.125 Safari/537.36\"', userId='293'),\n",
       " Row(artist=\"John Brown's Body\", auth='Logged In', firstName='Sawyer', gender='M', itemInSession=74, lastName='Larson', length=380.21179, level='free', location='Houston-The Woodlands-Sugar Land, TX', method='PUT', page='NextSong', registration=1538069638000, sessionId=97, song='Bulls', status=200, ts=1538352025000, userAgent='\"Mozilla/5.0 (Macintosh; Intel Mac OS X 10_9_4) AppleWebKit/537.36 (KHTML, like Gecko) Chrome/36.0.1985.143 Safari/537.36\"', userId='98'),\n",
       " Row(artist='Afroman', auth='Logged In', firstName='Maverick', gender='M', itemInSession=184, lastName='Santiago', length=202.37016, level='paid', location='Orlando-Kissimmee-Sanford, FL', method='PUT', page='NextSong', registration=1535953455000, sessionId=178, song='Because I Got High', status=200, ts=1538352118000, userAgent='\"Mozilla/5.0 (Macintosh; Intel Mac OS X 10_9_4) AppleWebKit/537.36 (KHTML, like Gecko) Chrome/36.0.1985.143 Safari/537.36\"', userId='179'),\n",
       " Row(artist=None, auth='Logged In', firstName='Maverick', gender='M', itemInSession=185, lastName='Santiago', length=None, level='paid', location='Orlando-Kissimmee-Sanford, FL', method='PUT', page='Logout', registration=1535953455000, sessionId=178, song=None, status=307, ts=1538352119000, userAgent='\"Mozilla/5.0 (Macintosh; Intel Mac OS X 10_9_4) AppleWebKit/537.36 (KHTML, like Gecko) Chrome/36.0.1985.143 Safari/537.36\"', userId='179'),\n",
       " Row(artist='Lily Allen', auth='Logged In', firstName='Gianna', gender='F', itemInSession=22, lastName='Campos', length=194.53342, level='paid', location='Mobile, AL', method='PUT', page='NextSong', registration=1535931018000, sessionId=245, song='Smile (Radio Edit)', status=200, ts=1538352124000, userAgent='Mozilla/5.0 (Windows NT 6.1; WOW64; rv:31.0) Gecko/20100101 Firefox/31.0', userId='246')]"
      ]
     },
     "execution_count": 5,
     "metadata": {},
     "output_type": "execute_result"
    }
   ],
   "source": [
    "df.take(5)"
   ]
  },
  {
   "cell_type": "markdown",
   "metadata": {},
   "source": [
    "**What does the schema look like**"
   ]
  },
  {
   "cell_type": "code",
   "execution_count": 6,
   "metadata": {
    "scrolled": true
   },
   "outputs": [
    {
     "name": "stdout",
     "output_type": "stream",
     "text": [
      "root\n",
      " |-- artist: string (nullable = true)\n",
      " |-- auth: string (nullable = true)\n",
      " |-- firstName: string (nullable = true)\n",
      " |-- gender: string (nullable = true)\n",
      " |-- itemInSession: long (nullable = true)\n",
      " |-- lastName: string (nullable = true)\n",
      " |-- length: double (nullable = true)\n",
      " |-- level: string (nullable = true)\n",
      " |-- location: string (nullable = true)\n",
      " |-- method: string (nullable = true)\n",
      " |-- page: string (nullable = true)\n",
      " |-- registration: long (nullable = true)\n",
      " |-- sessionId: long (nullable = true)\n",
      " |-- song: string (nullable = true)\n",
      " |-- status: long (nullable = true)\n",
      " |-- ts: long (nullable = true)\n",
      " |-- userAgent: string (nullable = true)\n",
      " |-- userId: string (nullable = true)\n",
      "\n"
     ]
    }
   ],
   "source": [
    "df.printSchema()"
   ]
  },
  {
   "cell_type": "code",
   "execution_count": 7,
   "metadata": {},
   "outputs": [
    {
     "data": {
      "text/plain": [
       "543705"
      ]
     },
     "execution_count": 7,
     "metadata": {},
     "output_type": "execute_result"
    }
   ],
   "source": [
    "df.count()"
   ]
  },
  {
   "cell_type": "code",
   "execution_count": 8,
   "metadata": {},
   "outputs": [
    {
     "name": "stdout",
     "output_type": "stream",
     "text": [
      "+------+\n",
      "|userId|\n",
      "+------+\n",
      "|   293|\n",
      "|    98|\n",
      "|   179|\n",
      "|   179|\n",
      "|   246|\n",
      "|   163|\n",
      "|      |\n",
      "|      |\n",
      "|      |\n",
      "|      |\n",
      "+------+\n",
      "only showing top 10 rows\n",
      "\n"
     ]
    }
   ],
   "source": [
    "#What does the userId column look like?\n",
    "df.select('userId').show(10)"
   ]
  },
  {
   "cell_type": "markdown",
   "metadata": {},
   "source": [
    "Top 10 rows show there are a lot of duplicate userIds which could come from different login sessions of number of music a user is streaming"
   ]
  },
  {
   "cell_type": "code",
   "execution_count": 9,
   "metadata": {},
   "outputs": [
    {
     "data": {
      "text/plain": [
       "528005"
      ]
     },
     "execution_count": 9,
     "metadata": {},
     "output_type": "execute_result"
    }
   ],
   "source": [
    "# Are there non-registered users with NAN userId values\n",
    "# filter for users with blank user id\n",
    "reg_users = df.filter(df.userId!=\"\")\n",
    "reg_users.count()"
   ]
  },
  {
   "cell_type": "code",
   "execution_count": 10,
   "metadata": {},
   "outputs": [
    {
     "data": {
      "text/plain": [
       "543705"
      ]
     },
     "execution_count": 10,
     "metadata": {},
     "output_type": "execute_result"
    }
   ],
   "source": [
    "#Drop NaN values in userIds\n",
    "df = df.dropna(how = \"any\", subset = [\"userId\", \"sessionId\"])\n",
    "df.count()"
   ]
  },
  {
   "cell_type": "markdown",
   "metadata": {},
   "source": [
    "### Exploratory Data Analysis\n",
    "When you're working with the full dataset, perform EDA by loading a small subset of the data and doing basic manipulations within Spark. In this workspace, you are already provided a small subset of data you can explore.\n",
    "\n",
    "#### Define Churn\n",
    "Once you've done some preliminary analysis, create a column Churn to use as the label for your model. I suggest using the Cancellation Confirmation events to define your churn, which happen for both paid and free users. As a bonus task, you can also look into the Downgrade events.\n",
    "\n",
    "#### Explore Data\n",
    "Once you've defined churn, perform some exploratory data analysis to observe the behavior for users who stayed vs users who churned. You can start by exploring aggregates on these two groups of users, observing how much of a specific action they experienced per a certain time unit or number of songs played."
   ]
  },
  {
   "cell_type": "markdown",
   "metadata": {},
   "source": [
    "**What are the available pages on the platform?**"
   ]
  },
  {
   "cell_type": "code",
   "execution_count": 11,
   "metadata": {},
   "outputs": [
    {
     "name": "stdout",
     "output_type": "stream",
     "text": [
      "+--------------------+\n",
      "|                page|\n",
      "+--------------------+\n",
      "|              Cancel|\n",
      "|    Submit Downgrade|\n",
      "|         Thumbs Down|\n",
      "|                Home|\n",
      "|           Downgrade|\n",
      "|         Roll Advert|\n",
      "|              Logout|\n",
      "|       Save Settings|\n",
      "|Cancellation Conf...|\n",
      "|               About|\n",
      "| Submit Registration|\n",
      "|            Settings|\n",
      "|               Login|\n",
      "|            Register|\n",
      "|     Add to Playlist|\n",
      "|          Add Friend|\n",
      "|            NextSong|\n",
      "|           Thumbs Up|\n",
      "|                Help|\n",
      "|             Upgrade|\n",
      "+--------------------+\n",
      "only showing top 20 rows\n",
      "\n"
     ]
    }
   ],
   "source": [
    "all_pages = df.select('page').dropDuplicates().show()"
   ]
  },
  {
   "cell_type": "markdown",
   "metadata": {},
   "source": [
    "What classes of Gender do we have in the dataset?\n"
   ]
  },
  {
   "cell_type": "markdown",
   "metadata": {},
   "source": [
    "df_gender = df.select('gender').dropDuplicates().show()\n",
    "df_gender"
   ]
  },
  {
   "cell_type": "markdown",
   "metadata": {},
   "source": [
    "From the users' inputs, there are 3 classes of gender in the data. Female, male and those who didn't enter any information. May be because they are gender-neutral."
   ]
  },
  {
   "cell_type": "code",
   "execution_count": 12,
   "metadata": {},
   "outputs": [],
   "source": [
    "df.createOrReplaceTempView(\"event_table\")"
   ]
  },
  {
   "cell_type": "code",
   "execution_count": 13,
   "metadata": {},
   "outputs": [
    {
     "name": "stdout",
     "output_type": "stream",
     "text": [
      "+----------------------+\n",
      "|count(DISTINCT userId)|\n",
      "+----------------------+\n",
      "|                   198|\n",
      "+----------------------+\n",
      "\n"
     ]
    }
   ],
   "source": [
    "spark.sql(\"SELECT COUNT(DISTINCT userId) from event_table WHERE gender = 'F'\").show()"
   ]
  },
  {
   "cell_type": "code",
   "execution_count": 14,
   "metadata": {},
   "outputs": [
    {
     "name": "stdout",
     "output_type": "stream",
     "text": [
      "+----------------------+\n",
      "|count(DISTINCT userId)|\n",
      "+----------------------+\n",
      "|                   250|\n",
      "+----------------------+\n",
      "\n"
     ]
    }
   ],
   "source": [
    "spark.sql(\"SELECT COUNT(DISTINCT userId) from event_table WHERE gender = 'M'\").show()"
   ]
  },
  {
   "cell_type": "markdown",
   "metadata": {},
   "source": [
    "To get a good summary of this dataset, I'll convert it to pandas dataframe."
   ]
  },
  {
   "cell_type": "code",
   "execution_count": 15,
   "metadata": {},
   "outputs": [],
   "source": [
    "df_pandas = df.toPandas()"
   ]
  },
  {
   "cell_type": "code",
   "execution_count": 16,
   "metadata": {},
   "outputs": [
    {
     "data": {
      "text/html": [
       "<div>\n",
       "<style scoped>\n",
       "    .dataframe tbody tr th:only-of-type {\n",
       "        vertical-align: middle;\n",
       "    }\n",
       "\n",
       "    .dataframe tbody tr th {\n",
       "        vertical-align: top;\n",
       "    }\n",
       "\n",
       "    .dataframe thead th {\n",
       "        text-align: right;\n",
       "    }\n",
       "</style>\n",
       "<table border=\"1\" class=\"dataframe\">\n",
       "  <thead>\n",
       "    <tr style=\"text-align: right;\">\n",
       "      <th></th>\n",
       "      <th>artist</th>\n",
       "      <th>auth</th>\n",
       "      <th>firstName</th>\n",
       "      <th>gender</th>\n",
       "      <th>itemInSession</th>\n",
       "      <th>lastName</th>\n",
       "      <th>length</th>\n",
       "      <th>level</th>\n",
       "      <th>location</th>\n",
       "      <th>method</th>\n",
       "      <th>page</th>\n",
       "      <th>registration</th>\n",
       "      <th>sessionId</th>\n",
       "      <th>song</th>\n",
       "      <th>status</th>\n",
       "      <th>ts</th>\n",
       "      <th>userAgent</th>\n",
       "      <th>userId</th>\n",
       "    </tr>\n",
       "  </thead>\n",
       "  <tbody>\n",
       "    <tr>\n",
       "      <th>count</th>\n",
       "      <td>432877</td>\n",
       "      <td>543705</td>\n",
       "      <td>528005</td>\n",
       "      <td>528005</td>\n",
       "      <td>543705.000000</td>\n",
       "      <td>528005</td>\n",
       "      <td>432877.000000</td>\n",
       "      <td>543705</td>\n",
       "      <td>528005</td>\n",
       "      <td>543705</td>\n",
       "      <td>543705</td>\n",
       "      <td>5.280050e+05</td>\n",
       "      <td>543705.000000</td>\n",
       "      <td>432877</td>\n",
       "      <td>543705.000000</td>\n",
       "      <td>5.437050e+05</td>\n",
       "      <td>528005</td>\n",
       "      <td>543705</td>\n",
       "    </tr>\n",
       "    <tr>\n",
       "      <th>unique</th>\n",
       "      <td>21247</td>\n",
       "      <td>4</td>\n",
       "      <td>345</td>\n",
       "      <td>2</td>\n",
       "      <td>NaN</td>\n",
       "      <td>275</td>\n",
       "      <td>NaN</td>\n",
       "      <td>2</td>\n",
       "      <td>192</td>\n",
       "      <td>2</td>\n",
       "      <td>22</td>\n",
       "      <td>NaN</td>\n",
       "      <td>NaN</td>\n",
       "      <td>80292</td>\n",
       "      <td>NaN</td>\n",
       "      <td>NaN</td>\n",
       "      <td>71</td>\n",
       "      <td>449</td>\n",
       "    </tr>\n",
       "    <tr>\n",
       "      <th>top</th>\n",
       "      <td>Kings Of Leon</td>\n",
       "      <td>Logged In</td>\n",
       "      <td>Joseph</td>\n",
       "      <td>M</td>\n",
       "      <td>NaN</td>\n",
       "      <td>Reed</td>\n",
       "      <td>NaN</td>\n",
       "      <td>paid</td>\n",
       "      <td>New York-Newark-Jersey City, NY-NJ-PA</td>\n",
       "      <td>PUT</td>\n",
       "      <td>NextSong</td>\n",
       "      <td>NaN</td>\n",
       "      <td>NaN</td>\n",
       "      <td>You're The One</td>\n",
       "      <td>NaN</td>\n",
       "      <td>NaN</td>\n",
       "      <td>\"Mozilla/5.0 (Macintosh; Intel Mac OS X 10_9_4...</td>\n",
       "      <td></td>\n",
       "    </tr>\n",
       "    <tr>\n",
       "      <th>freq</th>\n",
       "      <td>3497</td>\n",
       "      <td>527906</td>\n",
       "      <td>13108</td>\n",
       "      <td>302612</td>\n",
       "      <td>NaN</td>\n",
       "      <td>12767</td>\n",
       "      <td>NaN</td>\n",
       "      <td>428597</td>\n",
       "      <td>40156</td>\n",
       "      <td>495143</td>\n",
       "      <td>432877</td>\n",
       "      <td>NaN</td>\n",
       "      <td>NaN</td>\n",
       "      <td>2219</td>\n",
       "      <td>NaN</td>\n",
       "      <td>NaN</td>\n",
       "      <td>46082</td>\n",
       "      <td>15700</td>\n",
       "    </tr>\n",
       "    <tr>\n",
       "      <th>mean</th>\n",
       "      <td>NaN</td>\n",
       "      <td>NaN</td>\n",
       "      <td>NaN</td>\n",
       "      <td>NaN</td>\n",
       "      <td>107.306291</td>\n",
       "      <td>NaN</td>\n",
       "      <td>248.664593</td>\n",
       "      <td>NaN</td>\n",
       "      <td>NaN</td>\n",
       "      <td>NaN</td>\n",
       "      <td>NaN</td>\n",
       "      <td>1.535523e+12</td>\n",
       "      <td>2040.814353</td>\n",
       "      <td>NaN</td>\n",
       "      <td>210.018291</td>\n",
       "      <td>1.540965e+12</td>\n",
       "      <td>NaN</td>\n",
       "      <td>NaN</td>\n",
       "    </tr>\n",
       "    <tr>\n",
       "      <th>std</th>\n",
       "      <td>NaN</td>\n",
       "      <td>NaN</td>\n",
       "      <td>NaN</td>\n",
       "      <td>NaN</td>\n",
       "      <td>116.723508</td>\n",
       "      <td>NaN</td>\n",
       "      <td>98.412670</td>\n",
       "      <td>NaN</td>\n",
       "      <td>NaN</td>\n",
       "      <td>NaN</td>\n",
       "      <td>NaN</td>\n",
       "      <td>3.078725e+09</td>\n",
       "      <td>1434.338931</td>\n",
       "      <td>NaN</td>\n",
       "      <td>31.471919</td>\n",
       "      <td>1.482057e+09</td>\n",
       "      <td>NaN</td>\n",
       "      <td>NaN</td>\n",
       "    </tr>\n",
       "    <tr>\n",
       "      <th>min</th>\n",
       "      <td>NaN</td>\n",
       "      <td>NaN</td>\n",
       "      <td>NaN</td>\n",
       "      <td>NaN</td>\n",
       "      <td>0.000000</td>\n",
       "      <td>NaN</td>\n",
       "      <td>0.783220</td>\n",
       "      <td>NaN</td>\n",
       "      <td>NaN</td>\n",
       "      <td>NaN</td>\n",
       "      <td>NaN</td>\n",
       "      <td>1.509854e+12</td>\n",
       "      <td>1.000000</td>\n",
       "      <td>NaN</td>\n",
       "      <td>200.000000</td>\n",
       "      <td>1.538352e+12</td>\n",
       "      <td>NaN</td>\n",
       "      <td>NaN</td>\n",
       "    </tr>\n",
       "    <tr>\n",
       "      <th>25%</th>\n",
       "      <td>NaN</td>\n",
       "      <td>NaN</td>\n",
       "      <td>NaN</td>\n",
       "      <td>NaN</td>\n",
       "      <td>26.000000</td>\n",
       "      <td>NaN</td>\n",
       "      <td>199.392200</td>\n",
       "      <td>NaN</td>\n",
       "      <td>NaN</td>\n",
       "      <td>NaN</td>\n",
       "      <td>NaN</td>\n",
       "      <td>1.534368e+12</td>\n",
       "      <td>630.000000</td>\n",
       "      <td>NaN</td>\n",
       "      <td>200.000000</td>\n",
       "      <td>1.539720e+12</td>\n",
       "      <td>NaN</td>\n",
       "      <td>NaN</td>\n",
       "    </tr>\n",
       "    <tr>\n",
       "      <th>50%</th>\n",
       "      <td>NaN</td>\n",
       "      <td>NaN</td>\n",
       "      <td>NaN</td>\n",
       "      <td>NaN</td>\n",
       "      <td>68.000000</td>\n",
       "      <td>NaN</td>\n",
       "      <td>234.004440</td>\n",
       "      <td>NaN</td>\n",
       "      <td>NaN</td>\n",
       "      <td>NaN</td>\n",
       "      <td>NaN</td>\n",
       "      <td>1.536556e+12</td>\n",
       "      <td>1968.000000</td>\n",
       "      <td>NaN</td>\n",
       "      <td>200.000000</td>\n",
       "      <td>1.541005e+12</td>\n",
       "      <td>NaN</td>\n",
       "      <td>NaN</td>\n",
       "    </tr>\n",
       "    <tr>\n",
       "      <th>75%</th>\n",
       "      <td>NaN</td>\n",
       "      <td>NaN</td>\n",
       "      <td>NaN</td>\n",
       "      <td>NaN</td>\n",
       "      <td>147.000000</td>\n",
       "      <td>NaN</td>\n",
       "      <td>276.793020</td>\n",
       "      <td>NaN</td>\n",
       "      <td>NaN</td>\n",
       "      <td>NaN</td>\n",
       "      <td>NaN</td>\n",
       "      <td>1.537612e+12</td>\n",
       "      <td>3307.000000</td>\n",
       "      <td>NaN</td>\n",
       "      <td>200.000000</td>\n",
       "      <td>1.542177e+12</td>\n",
       "      <td>NaN</td>\n",
       "      <td>NaN</td>\n",
       "    </tr>\n",
       "    <tr>\n",
       "      <th>max</th>\n",
       "      <td>NaN</td>\n",
       "      <td>NaN</td>\n",
       "      <td>NaN</td>\n",
       "      <td>NaN</td>\n",
       "      <td>1005.000000</td>\n",
       "      <td>NaN</td>\n",
       "      <td>3024.665670</td>\n",
       "      <td>NaN</td>\n",
       "      <td>NaN</td>\n",
       "      <td>NaN</td>\n",
       "      <td>NaN</td>\n",
       "      <td>1.543074e+12</td>\n",
       "      <td>4808.000000</td>\n",
       "      <td>NaN</td>\n",
       "      <td>404.000000</td>\n",
       "      <td>1.543622e+12</td>\n",
       "      <td>NaN</td>\n",
       "      <td>NaN</td>\n",
       "    </tr>\n",
       "  </tbody>\n",
       "</table>\n",
       "</div>"
      ],
      "text/plain": [
       "               artist       auth firstName  gender  itemInSession lastName  \\\n",
       "count          432877     543705    528005  528005  543705.000000   528005   \n",
       "unique          21247          4       345       2            NaN      275   \n",
       "top     Kings Of Leon  Logged In    Joseph       M            NaN     Reed   \n",
       "freq             3497     527906     13108  302612            NaN    12767   \n",
       "mean              NaN        NaN       NaN     NaN     107.306291      NaN   \n",
       "std               NaN        NaN       NaN     NaN     116.723508      NaN   \n",
       "min               NaN        NaN       NaN     NaN       0.000000      NaN   \n",
       "25%               NaN        NaN       NaN     NaN      26.000000      NaN   \n",
       "50%               NaN        NaN       NaN     NaN      68.000000      NaN   \n",
       "75%               NaN        NaN       NaN     NaN     147.000000      NaN   \n",
       "max               NaN        NaN       NaN     NaN    1005.000000      NaN   \n",
       "\n",
       "               length   level                               location  method  \\\n",
       "count   432877.000000  543705                                 528005  543705   \n",
       "unique            NaN       2                                    192       2   \n",
       "top               NaN    paid  New York-Newark-Jersey City, NY-NJ-PA     PUT   \n",
       "freq              NaN  428597                                  40156  495143   \n",
       "mean       248.664593     NaN                                    NaN     NaN   \n",
       "std         98.412670     NaN                                    NaN     NaN   \n",
       "min          0.783220     NaN                                    NaN     NaN   \n",
       "25%        199.392200     NaN                                    NaN     NaN   \n",
       "50%        234.004440     NaN                                    NaN     NaN   \n",
       "75%        276.793020     NaN                                    NaN     NaN   \n",
       "max       3024.665670     NaN                                    NaN     NaN   \n",
       "\n",
       "            page  registration      sessionId            song         status  \\\n",
       "count     543705  5.280050e+05  543705.000000          432877  543705.000000   \n",
       "unique        22           NaN            NaN           80292            NaN   \n",
       "top     NextSong           NaN            NaN  You're The One            NaN   \n",
       "freq      432877           NaN            NaN            2219            NaN   \n",
       "mean         NaN  1.535523e+12    2040.814353             NaN     210.018291   \n",
       "std          NaN  3.078725e+09    1434.338931             NaN      31.471919   \n",
       "min          NaN  1.509854e+12       1.000000             NaN     200.000000   \n",
       "25%          NaN  1.534368e+12     630.000000             NaN     200.000000   \n",
       "50%          NaN  1.536556e+12    1968.000000             NaN     200.000000   \n",
       "75%          NaN  1.537612e+12    3307.000000             NaN     200.000000   \n",
       "max          NaN  1.543074e+12    4808.000000             NaN     404.000000   \n",
       "\n",
       "                  ts                                          userAgent  \\\n",
       "count   5.437050e+05                                             528005   \n",
       "unique           NaN                                                 71   \n",
       "top              NaN  \"Mozilla/5.0 (Macintosh; Intel Mac OS X 10_9_4...   \n",
       "freq             NaN                                              46082   \n",
       "mean    1.540965e+12                                                NaN   \n",
       "std     1.482057e+09                                                NaN   \n",
       "min     1.538352e+12                                                NaN   \n",
       "25%     1.539720e+12                                                NaN   \n",
       "50%     1.541005e+12                                                NaN   \n",
       "75%     1.542177e+12                                                NaN   \n",
       "max     1.543622e+12                                                NaN   \n",
       "\n",
       "        userId  \n",
       "count   543705  \n",
       "unique     449  \n",
       "top             \n",
       "freq     15700  \n",
       "mean       NaN  \n",
       "std        NaN  \n",
       "min        NaN  \n",
       "25%        NaN  \n",
       "50%        NaN  \n",
       "75%        NaN  \n",
       "max        NaN  "
      ]
     },
     "execution_count": 16,
     "metadata": {},
     "output_type": "execute_result"
    }
   ],
   "source": [
    "df_pandas.describe(include='all')"
   ]
  },
  {
   "cell_type": "markdown",
   "metadata": {},
   "source": [
    "The top song is \"You're the One\" by the artist \"King Of Leon\". This song has been played 3497 times. This song is usually found from the page \"Next Song\". This song is the favorite song for the user with userId=92 and usually played on a Mac computer with the name Joseph Reed.\n",
    "\n",
    "I think this is too revealing."
   ]
  },
  {
   "cell_type": "code",
   "execution_count": 17,
   "metadata": {},
   "outputs": [
    {
     "data": {
      "text/html": [
       "<div>\n",
       "<style scoped>\n",
       "    .dataframe tbody tr th:only-of-type {\n",
       "        vertical-align: middle;\n",
       "    }\n",
       "\n",
       "    .dataframe tbody tr th {\n",
       "        vertical-align: top;\n",
       "    }\n",
       "\n",
       "    .dataframe thead th {\n",
       "        text-align: right;\n",
       "    }\n",
       "</style>\n",
       "<table border=\"1\" class=\"dataframe\">\n",
       "  <thead>\n",
       "    <tr style=\"text-align: right;\">\n",
       "      <th></th>\n",
       "      <th>itemInSession</th>\n",
       "      <th>length</th>\n",
       "      <th>registration</th>\n",
       "      <th>sessionId</th>\n",
       "      <th>status</th>\n",
       "      <th>ts</th>\n",
       "    </tr>\n",
       "  </thead>\n",
       "  <tbody>\n",
       "    <tr>\n",
       "      <th>count</th>\n",
       "      <td>543705.000000</td>\n",
       "      <td>432877.000000</td>\n",
       "      <td>5.280050e+05</td>\n",
       "      <td>543705.000000</td>\n",
       "      <td>543705.000000</td>\n",
       "      <td>5.437050e+05</td>\n",
       "    </tr>\n",
       "    <tr>\n",
       "      <th>mean</th>\n",
       "      <td>107.306291</td>\n",
       "      <td>248.664593</td>\n",
       "      <td>1.535523e+12</td>\n",
       "      <td>2040.814353</td>\n",
       "      <td>210.018291</td>\n",
       "      <td>1.540965e+12</td>\n",
       "    </tr>\n",
       "    <tr>\n",
       "      <th>std</th>\n",
       "      <td>116.723508</td>\n",
       "      <td>98.412670</td>\n",
       "      <td>3.078725e+09</td>\n",
       "      <td>1434.338931</td>\n",
       "      <td>31.471919</td>\n",
       "      <td>1.482057e+09</td>\n",
       "    </tr>\n",
       "    <tr>\n",
       "      <th>min</th>\n",
       "      <td>0.000000</td>\n",
       "      <td>0.783220</td>\n",
       "      <td>1.509854e+12</td>\n",
       "      <td>1.000000</td>\n",
       "      <td>200.000000</td>\n",
       "      <td>1.538352e+12</td>\n",
       "    </tr>\n",
       "    <tr>\n",
       "      <th>25%</th>\n",
       "      <td>26.000000</td>\n",
       "      <td>199.392200</td>\n",
       "      <td>1.534368e+12</td>\n",
       "      <td>630.000000</td>\n",
       "      <td>200.000000</td>\n",
       "      <td>1.539720e+12</td>\n",
       "    </tr>\n",
       "    <tr>\n",
       "      <th>50%</th>\n",
       "      <td>68.000000</td>\n",
       "      <td>234.004440</td>\n",
       "      <td>1.536556e+12</td>\n",
       "      <td>1968.000000</td>\n",
       "      <td>200.000000</td>\n",
       "      <td>1.541005e+12</td>\n",
       "    </tr>\n",
       "    <tr>\n",
       "      <th>75%</th>\n",
       "      <td>147.000000</td>\n",
       "      <td>276.793020</td>\n",
       "      <td>1.537612e+12</td>\n",
       "      <td>3307.000000</td>\n",
       "      <td>200.000000</td>\n",
       "      <td>1.542177e+12</td>\n",
       "    </tr>\n",
       "    <tr>\n",
       "      <th>max</th>\n",
       "      <td>1005.000000</td>\n",
       "      <td>3024.665670</td>\n",
       "      <td>1.543074e+12</td>\n",
       "      <td>4808.000000</td>\n",
       "      <td>404.000000</td>\n",
       "      <td>1.543622e+12</td>\n",
       "    </tr>\n",
       "  </tbody>\n",
       "</table>\n",
       "</div>"
      ],
      "text/plain": [
       "       itemInSession         length  registration      sessionId  \\\n",
       "count  543705.000000  432877.000000  5.280050e+05  543705.000000   \n",
       "mean      107.306291     248.664593  1.535523e+12    2040.814353   \n",
       "std       116.723508      98.412670  3.078725e+09    1434.338931   \n",
       "min         0.000000       0.783220  1.509854e+12       1.000000   \n",
       "25%        26.000000     199.392200  1.534368e+12     630.000000   \n",
       "50%        68.000000     234.004440  1.536556e+12    1968.000000   \n",
       "75%       147.000000     276.793020  1.537612e+12    3307.000000   \n",
       "max      1005.000000    3024.665670  1.543074e+12    4808.000000   \n",
       "\n",
       "              status            ts  \n",
       "count  543705.000000  5.437050e+05  \n",
       "mean      210.018291  1.540965e+12  \n",
       "std        31.471919  1.482057e+09  \n",
       "min       200.000000  1.538352e+12  \n",
       "25%       200.000000  1.539720e+12  \n",
       "50%       200.000000  1.541005e+12  \n",
       "75%       200.000000  1.542177e+12  \n",
       "max       404.000000  1.543622e+12  "
      ]
     },
     "execution_count": 17,
     "metadata": {},
     "output_type": "execute_result"
    }
   ],
   "source": [
    "df_pandas.describe()"
   ]
  },
  {
   "cell_type": "code",
   "execution_count": 18,
   "metadata": {},
   "outputs": [
    {
     "data": {
      "text/html": [
       "<div>\n",
       "<style scoped>\n",
       "    .dataframe tbody tr th:only-of-type {\n",
       "        vertical-align: middle;\n",
       "    }\n",
       "\n",
       "    .dataframe tbody tr th {\n",
       "        vertical-align: top;\n",
       "    }\n",
       "\n",
       "    .dataframe thead th {\n",
       "        text-align: right;\n",
       "    }\n",
       "</style>\n",
       "<table border=\"1\" class=\"dataframe\">\n",
       "  <thead>\n",
       "    <tr style=\"text-align: right;\">\n",
       "      <th></th>\n",
       "      <th>artist</th>\n",
       "      <th>auth</th>\n",
       "      <th>firstName</th>\n",
       "      <th>gender</th>\n",
       "      <th>itemInSession</th>\n",
       "      <th>lastName</th>\n",
       "      <th>length</th>\n",
       "      <th>level</th>\n",
       "      <th>location</th>\n",
       "      <th>method</th>\n",
       "      <th>page</th>\n",
       "      <th>registration</th>\n",
       "      <th>sessionId</th>\n",
       "      <th>song</th>\n",
       "      <th>status</th>\n",
       "      <th>ts</th>\n",
       "      <th>userAgent</th>\n",
       "      <th>userId</th>\n",
       "    </tr>\n",
       "  </thead>\n",
       "  <tbody>\n",
       "    <tr>\n",
       "      <th>543695</th>\n",
       "      <td>Reel Big Fish</td>\n",
       "      <td>Logged In</td>\n",
       "      <td>Jeremiah</td>\n",
       "      <td>M</td>\n",
       "      <td>30</td>\n",
       "      <td>Jenkins</td>\n",
       "      <td>190.69342</td>\n",
       "      <td>paid</td>\n",
       "      <td>Memphis, TN-MS-AR</td>\n",
       "      <td>PUT</td>\n",
       "      <td>NextSong</td>\n",
       "      <td>1.536229e+12</td>\n",
       "      <td>916</td>\n",
       "      <td>Ban The Tube Top</td>\n",
       "      <td>200</td>\n",
       "      <td>1543622178000</td>\n",
       "      <td>\"Mozilla/5.0 (Macintosh; Intel Mac OS X 10_9_4...</td>\n",
       "      <td>300039</td>\n",
       "    </tr>\n",
       "    <tr>\n",
       "      <th>543696</th>\n",
       "      <td>Westside Connection</td>\n",
       "      <td>Logged In</td>\n",
       "      <td>Daniel</td>\n",
       "      <td>M</td>\n",
       "      <td>144</td>\n",
       "      <td>Stewart</td>\n",
       "      <td>148.08771</td>\n",
       "      <td>paid</td>\n",
       "      <td>Fresno, CA</td>\n",
       "      <td>PUT</td>\n",
       "      <td>NextSong</td>\n",
       "      <td>1.537523e+12</td>\n",
       "      <td>991</td>\n",
       "      <td>Terrorist Threats (Edited)</td>\n",
       "      <td>200</td>\n",
       "      <td>1543622184000</td>\n",
       "      <td>\"Mozilla/5.0 (Windows NT 6.1; WOW64) AppleWebK...</td>\n",
       "      <td>300049</td>\n",
       "    </tr>\n",
       "    <tr>\n",
       "      <th>543697</th>\n",
       "      <td>Cracker</td>\n",
       "      <td>Logged In</td>\n",
       "      <td>Aiden</td>\n",
       "      <td>M</td>\n",
       "      <td>34</td>\n",
       "      <td>Reed</td>\n",
       "      <td>205.03465</td>\n",
       "      <td>paid</td>\n",
       "      <td>Lakeland-Winter Haven, FL</td>\n",
       "      <td>PUT</td>\n",
       "      <td>NextSong</td>\n",
       "      <td>1.535616e+12</td>\n",
       "      <td>966</td>\n",
       "      <td>I'm A Little Rocket Ship</td>\n",
       "      <td>200</td>\n",
       "      <td>1543622187000</td>\n",
       "      <td>\"Mozilla/5.0 (iPhone; CPU iPhone OS 7_1_2 like...</td>\n",
       "      <td>300038</td>\n",
       "    </tr>\n",
       "    <tr>\n",
       "      <th>543698</th>\n",
       "      <td>None</td>\n",
       "      <td>Logged In</td>\n",
       "      <td>Aiden</td>\n",
       "      <td>M</td>\n",
       "      <td>35</td>\n",
       "      <td>Reed</td>\n",
       "      <td>NaN</td>\n",
       "      <td>paid</td>\n",
       "      <td>Lakeland-Winter Haven, FL</td>\n",
       "      <td>GET</td>\n",
       "      <td>Home</td>\n",
       "      <td>1.535616e+12</td>\n",
       "      <td>966</td>\n",
       "      <td>None</td>\n",
       "      <td>200</td>\n",
       "      <td>1543622227000</td>\n",
       "      <td>\"Mozilla/5.0 (iPhone; CPU iPhone OS 7_1_2 like...</td>\n",
       "      <td>300038</td>\n",
       "    </tr>\n",
       "    <tr>\n",
       "      <th>543699</th>\n",
       "      <td>The Morning Benders</td>\n",
       "      <td>Logged In</td>\n",
       "      <td>Joshua</td>\n",
       "      <td>M</td>\n",
       "      <td>108</td>\n",
       "      <td>White</td>\n",
       "      <td>104.12363</td>\n",
       "      <td>paid</td>\n",
       "      <td>San Antonio-New Braunfels, TX</td>\n",
       "      <td>PUT</td>\n",
       "      <td>NextSong</td>\n",
       "      <td>1.528781e+12</td>\n",
       "      <td>981</td>\n",
       "      <td>Cold War</td>\n",
       "      <td>200</td>\n",
       "      <td>1543622297000</td>\n",
       "      <td>\"Mozilla/5.0 (iPhone; CPU iPhone OS 7_1_2 like...</td>\n",
       "      <td>300015</td>\n",
       "    </tr>\n",
       "    <tr>\n",
       "      <th>543700</th>\n",
       "      <td>Oliver Onions</td>\n",
       "      <td>Logged In</td>\n",
       "      <td>Clayton</td>\n",
       "      <td>M</td>\n",
       "      <td>165</td>\n",
       "      <td>Jackson</td>\n",
       "      <td>183.50975</td>\n",
       "      <td>paid</td>\n",
       "      <td>Dallas-Fort Worth-Arlington, TX</td>\n",
       "      <td>PUT</td>\n",
       "      <td>NextSong</td>\n",
       "      <td>1.536850e+12</td>\n",
       "      <td>882</td>\n",
       "      <td>Dune Buggy</td>\n",
       "      <td>200</td>\n",
       "      <td>1543622316000</td>\n",
       "      <td>\"Mozilla/5.0 (Macintosh; Intel Mac OS X 10_9_4...</td>\n",
       "      <td>300010</td>\n",
       "    </tr>\n",
       "    <tr>\n",
       "      <th>543701</th>\n",
       "      <td>Sheena Easton</td>\n",
       "      <td>Logged In</td>\n",
       "      <td>Daniel</td>\n",
       "      <td>M</td>\n",
       "      <td>145</td>\n",
       "      <td>Stewart</td>\n",
       "      <td>239.62077</td>\n",
       "      <td>paid</td>\n",
       "      <td>Fresno, CA</td>\n",
       "      <td>PUT</td>\n",
       "      <td>NextSong</td>\n",
       "      <td>1.537523e+12</td>\n",
       "      <td>991</td>\n",
       "      <td>Strut (1993 Digital Remaster)</td>\n",
       "      <td>200</td>\n",
       "      <td>1543622332000</td>\n",
       "      <td>\"Mozilla/5.0 (Windows NT 6.1; WOW64) AppleWebK...</td>\n",
       "      <td>300049</td>\n",
       "    </tr>\n",
       "    <tr>\n",
       "      <th>543702</th>\n",
       "      <td>The White Stripes</td>\n",
       "      <td>Logged In</td>\n",
       "      <td>Jeremiah</td>\n",
       "      <td>M</td>\n",
       "      <td>31</td>\n",
       "      <td>Jenkins</td>\n",
       "      <td>234.97098</td>\n",
       "      <td>paid</td>\n",
       "      <td>Memphis, TN-MS-AR</td>\n",
       "      <td>PUT</td>\n",
       "      <td>NextSong</td>\n",
       "      <td>1.536229e+12</td>\n",
       "      <td>916</td>\n",
       "      <td>Jolene [Live]</td>\n",
       "      <td>200</td>\n",
       "      <td>1543622368000</td>\n",
       "      <td>\"Mozilla/5.0 (Macintosh; Intel Mac OS X 10_9_4...</td>\n",
       "      <td>300039</td>\n",
       "    </tr>\n",
       "    <tr>\n",
       "      <th>543703</th>\n",
       "      <td>Hinder</td>\n",
       "      <td>Logged In</td>\n",
       "      <td>Aiden</td>\n",
       "      <td>M</td>\n",
       "      <td>36</td>\n",
       "      <td>Reed</td>\n",
       "      <td>262.05995</td>\n",
       "      <td>paid</td>\n",
       "      <td>Lakeland-Winter Haven, FL</td>\n",
       "      <td>PUT</td>\n",
       "      <td>NextSong</td>\n",
       "      <td>1.535616e+12</td>\n",
       "      <td>966</td>\n",
       "      <td>Lips Of An Angel</td>\n",
       "      <td>200</td>\n",
       "      <td>1543622392000</td>\n",
       "      <td>\"Mozilla/5.0 (iPhone; CPU iPhone OS 7_1_2 like...</td>\n",
       "      <td>300038</td>\n",
       "    </tr>\n",
       "    <tr>\n",
       "      <th>543704</th>\n",
       "      <td>Jack Johnson</td>\n",
       "      <td>Logged In</td>\n",
       "      <td>Joshua</td>\n",
       "      <td>M</td>\n",
       "      <td>109</td>\n",
       "      <td>White</td>\n",
       "      <td>144.06485</td>\n",
       "      <td>paid</td>\n",
       "      <td>San Antonio-New Braunfels, TX</td>\n",
       "      <td>PUT</td>\n",
       "      <td>NextSong</td>\n",
       "      <td>1.528781e+12</td>\n",
       "      <td>981</td>\n",
       "      <td>Do You Remember</td>\n",
       "      <td>200</td>\n",
       "      <td>1543622401000</td>\n",
       "      <td>\"Mozilla/5.0 (iPhone; CPU iPhone OS 7_1_2 like...</td>\n",
       "      <td>300015</td>\n",
       "    </tr>\n",
       "  </tbody>\n",
       "</table>\n",
       "</div>"
      ],
      "text/plain": [
       "                     artist       auth firstName gender  itemInSession  \\\n",
       "543695        Reel Big Fish  Logged In  Jeremiah      M             30   \n",
       "543696  Westside Connection  Logged In    Daniel      M            144   \n",
       "543697              Cracker  Logged In     Aiden      M             34   \n",
       "543698                 None  Logged In     Aiden      M             35   \n",
       "543699  The Morning Benders  Logged In    Joshua      M            108   \n",
       "543700        Oliver Onions  Logged In   Clayton      M            165   \n",
       "543701        Sheena Easton  Logged In    Daniel      M            145   \n",
       "543702    The White Stripes  Logged In  Jeremiah      M             31   \n",
       "543703               Hinder  Logged In     Aiden      M             36   \n",
       "543704         Jack Johnson  Logged In    Joshua      M            109   \n",
       "\n",
       "       lastName     length level                         location method  \\\n",
       "543695  Jenkins  190.69342  paid                Memphis, TN-MS-AR    PUT   \n",
       "543696  Stewart  148.08771  paid                       Fresno, CA    PUT   \n",
       "543697     Reed  205.03465  paid        Lakeland-Winter Haven, FL    PUT   \n",
       "543698     Reed        NaN  paid        Lakeland-Winter Haven, FL    GET   \n",
       "543699    White  104.12363  paid    San Antonio-New Braunfels, TX    PUT   \n",
       "543700  Jackson  183.50975  paid  Dallas-Fort Worth-Arlington, TX    PUT   \n",
       "543701  Stewart  239.62077  paid                       Fresno, CA    PUT   \n",
       "543702  Jenkins  234.97098  paid                Memphis, TN-MS-AR    PUT   \n",
       "543703     Reed  262.05995  paid        Lakeland-Winter Haven, FL    PUT   \n",
       "543704    White  144.06485  paid    San Antonio-New Braunfels, TX    PUT   \n",
       "\n",
       "            page  registration  sessionId                           song  \\\n",
       "543695  NextSong  1.536229e+12        916               Ban The Tube Top   \n",
       "543696  NextSong  1.537523e+12        991     Terrorist Threats (Edited)   \n",
       "543697  NextSong  1.535616e+12        966       I'm A Little Rocket Ship   \n",
       "543698      Home  1.535616e+12        966                           None   \n",
       "543699  NextSong  1.528781e+12        981                       Cold War   \n",
       "543700  NextSong  1.536850e+12        882                     Dune Buggy   \n",
       "543701  NextSong  1.537523e+12        991  Strut (1993 Digital Remaster)   \n",
       "543702  NextSong  1.536229e+12        916                  Jolene [Live]   \n",
       "543703  NextSong  1.535616e+12        966               Lips Of An Angel   \n",
       "543704  NextSong  1.528781e+12        981                Do You Remember   \n",
       "\n",
       "        status             ts  \\\n",
       "543695     200  1543622178000   \n",
       "543696     200  1543622184000   \n",
       "543697     200  1543622187000   \n",
       "543698     200  1543622227000   \n",
       "543699     200  1543622297000   \n",
       "543700     200  1543622316000   \n",
       "543701     200  1543622332000   \n",
       "543702     200  1543622368000   \n",
       "543703     200  1543622392000   \n",
       "543704     200  1543622401000   \n",
       "\n",
       "                                                userAgent  userId  \n",
       "543695  \"Mozilla/5.0 (Macintosh; Intel Mac OS X 10_9_4...  300039  \n",
       "543696  \"Mozilla/5.0 (Windows NT 6.1; WOW64) AppleWebK...  300049  \n",
       "543697  \"Mozilla/5.0 (iPhone; CPU iPhone OS 7_1_2 like...  300038  \n",
       "543698  \"Mozilla/5.0 (iPhone; CPU iPhone OS 7_1_2 like...  300038  \n",
       "543699  \"Mozilla/5.0 (iPhone; CPU iPhone OS 7_1_2 like...  300015  \n",
       "543700  \"Mozilla/5.0 (Macintosh; Intel Mac OS X 10_9_4...  300010  \n",
       "543701  \"Mozilla/5.0 (Windows NT 6.1; WOW64) AppleWebK...  300049  \n",
       "543702  \"Mozilla/5.0 (Macintosh; Intel Mac OS X 10_9_4...  300039  \n",
       "543703  \"Mozilla/5.0 (iPhone; CPU iPhone OS 7_1_2 like...  300038  \n",
       "543704  \"Mozilla/5.0 (iPhone; CPU iPhone OS 7_1_2 like...  300015  "
      ]
     },
     "execution_count": 18,
     "metadata": {},
     "output_type": "execute_result"
    }
   ],
   "source": [
    "df_pandas.tail(10)"
   ]
  },
  {
   "cell_type": "code",
   "execution_count": null,
   "metadata": {},
   "outputs": [],
   "source": []
  },
  {
   "cell_type": "code",
   "execution_count": 19,
   "metadata": {},
   "outputs": [
    {
     "name": "stdout",
     "output_type": "stream",
     "text": [
      "+----------+------+\n",
      "|      auth| count|\n",
      "+----------+------+\n",
      "| Cancelled|    99|\n",
      "|     Guest|    94|\n",
      "| Logged In|527906|\n",
      "|Logged Out| 15606|\n",
      "+----------+------+\n",
      "\n"
     ]
    }
   ],
   "source": [
    "#What's the distribution of users' auth ()\n",
    "df.groupBy(\"auth\").count().orderBy(\"auth\").show()\n"
   ]
  },
  {
   "cell_type": "code",
   "execution_count": 20,
   "metadata": {},
   "outputs": [
    {
     "name": "stdout",
     "output_type": "stream",
     "text": [
      "+------+------+\n",
      "|gender| count|\n",
      "+------+------+\n",
      "|  null| 15700|\n",
      "|     F|225393|\n",
      "|     M|302612|\n",
      "+------+------+\n",
      "\n"
     ]
    }
   ],
   "source": [
    "#What's the users' gender distribution \n",
    "df.groupBy(\"gender\").count().orderBy(\"gender\").show()"
   ]
  },
  {
   "cell_type": "code",
   "execution_count": 21,
   "metadata": {},
   "outputs": [
    {
     "name": "stdout",
     "output_type": "stream",
     "text": [
      "+-----+------+\n",
      "|level| count|\n",
      "+-----+------+\n",
      "| free|115108|\n",
      "| paid|428597|\n",
      "+-----+------+\n",
      "\n"
     ]
    }
   ],
   "source": [
    "#How many users are using the Free version or Paid Subscription\n",
    "df.groupBy(\"level\").count().orderBy(\"level\").show()"
   ]
  },
  {
   "cell_type": "markdown",
   "metadata": {},
   "source": [
    "### Feature Engineering\n",
    "Once you've familiarized yourself with the data, build out the features you find promising to train your model on. To work with the full dataset, you can follow the following steps.\n",
    "\n",
    "1. Write a script to extract the necessary features from the smaller subset of data\n",
    "2. Ensure that your script is scalable, using the best practices discussed in Lesson 3\n",
    "3. Try your script on the full data set, debugging your script if necessary\n",
    "\n",
    "If you are working in the classroom workspace, you can just extract features based on the small subset of data contained here. Be sure to transfer over this work to the larger dataset when you work on your Spark cluster."
   ]
  },
  {
   "cell_type": "markdown",
   "metadata": {},
   "source": [
    "#### Which Users Downgraded their account or Cancelled their Subscriptions?"
   ]
  },
  {
   "cell_type": "code",
   "execution_count": 22,
   "metadata": {},
   "outputs": [
    {
     "data": {
      "text/plain": [
       "117"
      ]
     },
     "execution_count": 22,
     "metadata": {},
     "output_type": "execute_result"
    }
   ],
   "source": [
    "df.filter(\"page = 'Submit Downgrade'\").count()"
   ]
  },
  {
   "cell_type": "code",
   "execution_count": 23,
   "metadata": {},
   "outputs": [
    {
     "data": {
      "text/plain": [
       "99"
      ]
     },
     "execution_count": 23,
     "metadata": {},
     "output_type": "execute_result"
    }
   ],
   "source": [
    "cancel = df.filter(df.page==\"Cancellation Confirmation\").select(\"userId\").dropDuplicates()\n",
    "cancel.count()"
   ]
  },
  {
   "cell_type": "markdown",
   "metadata": {},
   "source": [
    "#### Calculate Statistics by Hour"
   ]
  },
  {
   "cell_type": "code",
   "execution_count": 24,
   "metadata": {},
   "outputs": [],
   "source": [
    "get_hour = udf(lambda x: datetime.datetime.fromtimestamp(x / 1000.0).hour)"
   ]
  },
  {
   "cell_type": "code",
   "execution_count": 25,
   "metadata": {},
   "outputs": [
    {
     "data": {
      "text/plain": [
       "Row(artist='Martin Orford', auth='Logged In', firstName='Joseph', gender='M', itemInSession=20, lastName='Morales', length=597.55057, level='free', location='Corpus Christi, TX', method='PUT', page='NextSong', registration=1532063507000, sessionId=292, song='Grand Designs', status=200, ts=1538352011000, userAgent='\"Mozilla/5.0 (Macintosh; Intel Mac OS X 10_9_4) AppleWebKit/537.36 (KHTML, like Gecko) Chrome/36.0.1985.125 Safari/537.36\"', userId='293', hour='0')"
      ]
     },
     "execution_count": 25,
     "metadata": {},
     "output_type": "execute_result"
    }
   ],
   "source": [
    "df = df.withColumn(\"hour\", get_hour(df.ts))\n",
    "df.head()"
   ]
  },
  {
   "cell_type": "code",
   "execution_count": 26,
   "metadata": {},
   "outputs": [],
   "source": [
    "songs_in_hour = df.filter(df.page == \"NextSong\").groupby(df.hour).count().orderBy(df.hour)"
   ]
  },
  {
   "cell_type": "code",
   "execution_count": 27,
   "metadata": {},
   "outputs": [
    {
     "name": "stdout",
     "output_type": "stream",
     "text": [
      "+----+-----+\n",
      "|hour|count|\n",
      "+----+-----+\n",
      "|   0|17555|\n",
      "|   1|17038|\n",
      "|  10|15476|\n",
      "|  11|16290|\n",
      "|  12|17230|\n",
      "|  13|17995|\n",
      "|  14|19978|\n",
      "|  15|21953|\n",
      "|  16|22542|\n",
      "|  17|22500|\n",
      "|  18|22223|\n",
      "|  19|21296|\n",
      "|   2|16265|\n",
      "|  20|20336|\n",
      "|  21|19850|\n",
      "|  22|19191|\n",
      "|  23|18327|\n",
      "|   3|15581|\n",
      "|   4|15430|\n",
      "|   5|15203|\n",
      "+----+-----+\n",
      "only showing top 20 rows\n",
      "\n"
     ]
    }
   ],
   "source": [
    "songs_in_hour.show()"
   ]
  },
  {
   "cell_type": "code",
   "execution_count": 28,
   "metadata": {},
   "outputs": [],
   "source": [
    "songs_in_hour_pd = songs_in_hour.toPandas()\n",
    "songs_in_hour_pd.hour = pd.to_numeric(songs_in_hour_pd.hour)"
   ]
  },
  {
   "cell_type": "code",
   "execution_count": 29,
   "metadata": {},
   "outputs": [
    {
     "data": {
      "image/png": "[encoded data removed]",
      "text/plain": [
       "<Figure size 432x288 with 1 Axes>"
      ]
     },
     "metadata": {},
     "output_type": "display_data"
    }
   ],
   "source": [
    "sb.set()\n",
    "plt.scatter(songs_in_hour_pd[\"hour\"], songs_in_hour_pd[\"count\"], s=120, c='red')\n",
    "plt.xlabel(\"Hour\")\n",
    "plt.ylabel(\"Songs Played\");"
   ]
  },
  {
   "cell_type": "code",
   "execution_count": null,
   "metadata": {},
   "outputs": [],
   "source": []
  },
  {
   "cell_type": "markdown",
   "metadata": {},
   "source": [
    "#### Churn Rate"
   ]
  },
  {
   "cell_type": "code",
   "execution_count": 30,
   "metadata": {},
   "outputs": [],
   "source": [
    "churn_users = df.filter(df.page==\"Cancellation Confirmation\").select(\"userId\").dropDuplicates()\n",
    "churn_users_list = [(row['userId']) for row in churn_users.collect()]\n",
    "df_churn = df.withColumn(\"churn\", df.userId.isin(churn_users_list))"
   ]
  },
  {
   "cell_type": "markdown",
   "metadata": {},
   "source": [
    "Compare the number of churned users to the users who didn't change their accounts"
   ]
  },
  {
   "cell_type": "code",
   "execution_count": 31,
   "metadata": {},
   "outputs": [
    {
     "data": {
      "text/plain": [
       "<matplotlib.axes._subplots.AxesSubplot at 0x7f40b9b15080>"
      ]
     },
     "execution_count": 31,
     "metadata": {},
     "output_type": "execute_result"
    },
    {
     "data": {
      "image/png": "[encoded data removed]",
      "text/plain": [
       "<Figure size 432x288 with 1 Axes>"
      ]
     },
     "metadata": {},
     "output_type": "display_data"
    }
   ],
   "source": [
    "churn_by_gender = df_churn.dropDuplicates([\"userId\", \"gender\"]).groupby([\"churn\", \"gender\"]).count().sort(\"churn\").toPandas()\n",
    "sb.barplot(x='churn', y='count', hue='gender', data=churn_by_gender)"
   ]
  },
  {
   "cell_type": "markdown",
   "metadata": {},
   "source": [
    "**At what level were the users before they churned?**"
   ]
  },
  {
   "cell_type": "code",
   "execution_count": 32,
   "metadata": {},
   "outputs": [
    {
     "data": {
      "text/plain": [
       "<matplotlib.axes._subplots.AxesSubplot at 0x7f40ad19ce48>"
      ]
     },
     "execution_count": 32,
     "metadata": {},
     "output_type": "execute_result"
    },
    {
     "data": {
      "image/png": "[encoded data removed]",
      "text/plain": [
       "<Figure size 432x288 with 1 Axes>"
      ]
     },
     "metadata": {},
     "output_type": "display_data"
    }
   ],
   "source": [
    "df_churnlevel = df_churn.filter(df_churn.page==\"Cancellation Confirmation\").groupby(\"level\").count().toPandas()\n",
    "sb.barplot(x=\"level\", y=\"count\", data=df_churnlevel)"
   ]
  },
  {
   "cell_type": "markdown",
   "metadata": {},
   "source": [
    "#### Create Features from the Churned Customers/Users"
   ]
  },
  {
   "cell_type": "markdown",
   "metadata": {},
   "source": [
    "For predicting the churn rate, we have to look at different features and user behaviors by extracting the features below.\n",
    "\n",
    "1. Total songs a user listened to: Were the users actively engaged? \n",
    "2. Total Number of Artist listened to: What variety of the songs did the users interact with? \n",
    "3. Listening time statistics (average, min and max time per session): Each time a use logs in, how long did they stay on theplatform before logging out? This will show if they really like the platform. \n",
    "4. Total songs listened to per session \n",
    "5. How many songs did they like (Thumbs Up) 6. How many songs did they dislike (Thumbs Down) \n",
    "6. Number of songs added to playlist \n",
    "7. How many friends each user added:Will there will peer pressure influencing decisions by users? \n",
    "8. What's the Gender Distribution: The behavior of the female users may be different from that of the male users as seen from the exploratory analysis of the gender \n",
    "9. Churn rate \n",
    "10. Time spent on the platform: How long has a user been registered on the platform.\n",
    "\n",
    "**-->> Merge all features and labels**"
   ]
  },
  {
   "cell_type": "markdown",
   "metadata": {},
   "source": [
    "**F1: Total songs a churned user listened to**"
   ]
  },
  {
   "cell_type": "code",
   "execution_count": 33,
   "metadata": {},
   "outputs": [
    {
     "name": "stdout",
     "output_type": "stream",
     "text": [
      "+-------+------------------+--------------------+------------------+\n",
      "|summary|            userId|                song|         num_songs|\n",
      "+-------+------------------+--------------------+------------------+\n",
      "|  count|            381808|              381808|            381808|\n",
      "|   mean|59287.684294200226|            Infinity|1.1337557096760675|\n",
      "| stddev| 108973.0898515188|                 NaN|0.6789142627704061|\n",
      "|    min|                10|\u001c",
      "ÃÂg ÃÂtti Gr...|                 1|\n",
      "|    max|                99|ÃÂ¾etta Gerist Ã...|                49|\n",
      "+-------+------------------+--------------------+------------------+\n",
      "\n"
     ]
    }
   ],
   "source": [
    "f1 = df_churn \\\n",
    "    .filter(df_churn.page==\"NextSong\") \\\n",
    "    .groupby(\"userId\", \"song\") \\\n",
    "    .count() \\\n",
    "    .withColumnRenamed(\"count\", \"num_songs\")\n",
    "    \n",
    "    \n",
    "f1.describe().show()"
   ]
  },
  {
   "cell_type": "markdown",
   "metadata": {},
   "source": [
    "**F2: Total Number of Artist Listened To**"
   ]
  },
  {
   "cell_type": "code",
   "execution_count": 34,
   "metadata": {},
   "outputs": [
    {
     "name": "stdout",
     "output_type": "stream",
     "text": [
      "+-------+------------------+-----------------+\n",
      "|summary|            userId|       num_artist|\n",
      "+-------+------------------+-----------------+\n",
      "|  count|               448|              448|\n",
      "|   mean| 67520.34821428571|658.9799107142857|\n",
      "| stddev|105964.58428485181| 625.882698051957|\n",
      "|    min|                10|                1|\n",
      "|    max|                99|             3507|\n",
      "+-------+------------------+-----------------+\n",
      "\n"
     ]
    }
   ],
   "source": [
    "f2 = df_churn \\\n",
    "    .filter(df_churn.page==\"NextSong\") \\\n",
    "    .select(\"userId\", \"artist\") \\\n",
    "    .dropDuplicates() \\\n",
    "    .groupby(\"userId\") \\\n",
    "    .count() \\\n",
    "    .withColumnRenamed(\"count\", \"num_artist\")\n",
    "    \n",
    "f2.describe().show()"
   ]
  },
  {
   "cell_type": "markdown",
   "metadata": {},
   "source": [
    "**F3: Listening time statistics per session**"
   ]
  },
  {
   "cell_type": "code",
   "execution_count": 35,
   "metadata": {},
   "outputs": [
    {
     "name": "stdout",
     "output_type": "stream",
     "text": [
      "+-------+------------------+------------------+-----------------+\n",
      "|summary|            userId|         sessionId|     songs_played|\n",
      "+-------+------------------+------------------+-----------------+\n",
      "|  count|              5921|              5921|             5921|\n",
      "|   mean| 70318.23712210775|1806.3252828914035| 73.1087654112481|\n",
      "| stddev|114146.67821720056|1433.4717443355146|88.38790231810648|\n",
      "|    min|                10|                 1|                1|\n",
      "|    max|                99|              4808|              810|\n",
      "+-------+------------------+------------------+-----------------+\n",
      "\n"
     ]
    }
   ],
   "source": [
    "f3 = df_churn \\\n",
    "    .filter(df_churn.page==\"NextSong\") \\\n",
    "    .groupby(\"userId\", \"sessionId\") \\\n",
    "    .count() \\\n",
    "    .withColumnRenamed(\"count\", \"songs_played\")\n",
    "\n",
    "f3.describe().show()"
   ]
  },
  {
   "cell_type": "markdown",
   "metadata": {},
   "source": [
    "**F4: How many songs did they like (Thumbs Up)**"
   ]
  },
  {
   "cell_type": "code",
   "execution_count": 36,
   "metadata": {},
   "outputs": [
    {
     "name": "stdout",
     "output_type": "stream",
     "text": [
      "+-------+------------------+-----------------+\n",
      "|summary|            userId|    num_thumbs_up|\n",
      "+-------+------------------+-----------------+\n",
      "|  count|               439|              439|\n",
      "|   mean| 67308.81548974942|54.27334851936219|\n",
      "| stddev|106228.80408254791| 69.9413517877898|\n",
      "|    min|                10|                1|\n",
      "|    max|                99|              506|\n",
      "+-------+------------------+-----------------+\n",
      "\n"
     ]
    }
   ],
   "source": [
    "f4 = df_churn \\\n",
    "    .filter(df_churn.page==\"Thumbs Up\") \\\n",
    "    .groupby(\"userId\") \\\n",
    "    .count() \\\n",
    "    .withColumnRenamed(\"count\", \"num_thumbs_up\")\n",
    "    \n",
    "f4.describe().show()"
   ]
  },
  {
   "cell_type": "markdown",
   "metadata": {},
   "source": [
    "**F5: Number of Thumbs Down Given by user**"
   ]
  },
  {
   "cell_type": "code",
   "execution_count": 37,
   "metadata": {},
   "outputs": [
    {
     "name": "stdout",
     "output_type": "stream",
     "text": [
      "+-------+------------------+------------------+\n",
      "|summary|            userId|   num_thumbs_down|\n",
      "+-------+------------------+------------------+\n",
      "|  count|               389|               389|\n",
      "|   mean| 70031.19537275065|12.624678663239074|\n",
      "| stddev|106895.73735311364|13.582432851937986|\n",
      "|    min|                10|                 1|\n",
      "|    max|                99|                80|\n",
      "+-------+------------------+------------------+\n",
      "\n"
     ]
    }
   ],
   "source": [
    "f5 = df_churn \\\n",
    "    .filter(df_churn.page==\"Thumbs Down\") \\\n",
    "    .groupby(\"userId\") \\\n",
    "    .count() \\\n",
    "    .withColumnRenamed(\"count\", \"num_thumbs_down\") \n",
    "\n",
    "f5.describe().show()"
   ]
  },
  {
   "cell_type": "markdown",
   "metadata": {},
   "source": [
    "**F6: Number of songs added to playlist**"
   ]
  },
  {
   "cell_type": "code",
   "execution_count": 38,
   "metadata": {},
   "outputs": [
    {
     "name": "stdout",
     "output_type": "stream",
     "text": [
      "+-------+-----------------+------------------+\n",
      "|summary|           userId|      num_playlist|\n",
      "+-------+-----------------+------------------+\n",
      "|  count|              428|               428|\n",
      "|   mean|65764.93457943926|28.852803738317757|\n",
      "| stddev| 105363.385783828| 33.91309069456631|\n",
      "|    min|               10|                 1|\n",
      "|    max|               99|               248|\n",
      "+-------+-----------------+------------------+\n",
      "\n"
     ]
    }
   ],
   "source": [
    "f6 = df_churn \\\n",
    "    .filter(df_churn.page==\"Add to Playlist\") \\\n",
    "    .groupby(\"userId\") \\\n",
    "    .count() \\\n",
    "    .withColumnRenamed(\"count\", \"num_playlist\")\n",
    "\n",
    "f6.describe().show()"
   ]
  },
  {
   "cell_type": "markdown",
   "metadata": {},
   "source": [
    "**F7: Number of Friends User Added**"
   ]
  },
  {
   "cell_type": "code",
   "execution_count": 39,
   "metadata": {},
   "outputs": [
    {
     "name": "stdout",
     "output_type": "stream",
     "text": [
      "+-------+----------------+------------------+\n",
      "|summary|          userId|       num_friends|\n",
      "+-------+----------------+------------------+\n",
      "|  count|             409|               409|\n",
      "|   mean|66368.3716381418|19.772616136919314|\n",
      "| stddev|106064.016090306|22.494435766272826|\n",
      "|    min|              10|                 1|\n",
      "|    max|              99|               158|\n",
      "+-------+----------------+------------------+\n",
      "\n"
     ]
    }
   ],
   "source": [
    "f7 = df_churn \\\n",
    "    .filter(df_churn.page==\"Add Friend\") \\\n",
    "    .groupby(\"userId\") \\\n",
    "    .count() \\\n",
    "    .withColumnRenamed(\"count\", \"num_friends\") \n",
    "\n",
    "f7.describe().show()"
   ]
  },
  {
   "cell_type": "markdown",
   "metadata": {},
   "source": [
    "**F8: Gender distribution**"
   ]
  },
  {
   "cell_type": "code",
   "execution_count": 46,
   "metadata": {},
   "outputs": [
    {
     "name": "stdout",
     "output_type": "stream",
     "text": [
      "+------+------+\n",
      "|userId|gender|\n",
      "+------+------+\n",
      "|   188|     1|\n",
      "|   234|     0|\n",
      "|    44|     1|\n",
      "|   273|     0|\n",
      "|    46|     1|\n",
      "+------+------+\n",
      "only showing top 5 rows\n",
      "\n"
     ]
    }
   ],
   "source": [
    "f8 = df_churn \\\n",
    "    .select(\"userId\", \"gender\") \\\n",
    "    .dropDuplicates() \\\n",
    "    .replace([\"M\", \"F\"], [\"0\", \"1\"], \"gender\")\n",
    "\n",
    "f8 = f8.select(\"userId\", f8.gender.cast(\"int\"))\n",
    "f8.show(5)"
   ]
  },
  {
   "cell_type": "markdown",
   "metadata": {},
   "source": [
    "**F9: Churn rate**"
   ]
  },
  {
   "cell_type": "code",
   "execution_count": 41,
   "metadata": {},
   "outputs": [
    {
     "name": "stdout",
     "output_type": "stream",
     "text": [
      "+------+-----+\n",
      "|userId|label|\n",
      "+------+-----+\n",
      "|    19|    0|\n",
      "|    73|    0|\n",
      "|   209|    0|\n",
      "|100005|    1|\n",
      "|100030|    1|\n",
      "|100034|    0|\n",
      "|200007|    0|\n",
      "|   184|    0|\n",
      "|    50|    0|\n",
      "|100048|    1|\n",
      "|    30|    0|\n",
      "|100011|    1|\n",
      "|100012|    1|\n",
      "|300051|    0|\n",
      "|   172|    1|\n",
      "|     8|    0|\n",
      "|   192|    0|\n",
      "|   214|    1|\n",
      "|   211|    0|\n",
      "|     4|    0|\n",
      "+------+-----+\n",
      "only showing top 20 rows\n",
      "\n"
     ]
    }
   ],
   "source": [
    "f9_label = df_churn \\\n",
    "    .select('userId', col('churn').alias('label').cast('int')) \\\n",
    "    .dropDuplicates() \n",
    "\n",
    "f9_label.show()"
   ]
  },
  {
   "cell_type": "markdown",
   "metadata": {},
   "source": [
    "**F10: How long has the user been a registered member on the platform**"
   ]
  },
  {
   "cell_type": "code",
   "execution_count": 42,
   "metadata": {},
   "outputs": [],
   "source": [
    "convert_ts = udf(lambda x: datetime.datetime.fromtimestamp(x / 1000.0).strftime(\"%Y-%m-%d %H:%M:%S\"))\n",
    "df = df.withColumn('activity_time', convert_ts('ts'))\n",
    "df = df.withColumn('registration_time', convert_ts('registration'))"
   ]
  },
  {
   "cell_type": "code",
   "execution_count": 43,
   "metadata": {},
   "outputs": [
    {
     "name": "stdout",
     "output_type": "stream",
     "text": [
      "+-------+------------------+---------------------+\n",
      "|summary|            userId|time_registered(days)|\n",
      "+-------+------------------+---------------------+\n",
      "|  count|               449|                  448|\n",
      "|   mean| 67520.34821428571|   17770.076449497767|\n",
      "| stddev|105964.58428485182|   37.598134254940724|\n",
      "|    min|                  |   17475.164270833335|\n",
      "|    max|                99|   17859.651319444445|\n",
      "+-------+------------------+---------------------+\n",
      "\n"
     ]
    }
   ],
   "source": [
    "f10 = df_churn \\\n",
    "    .select('userId', 'registration', 'ts') \\\n",
    "    .withColumn('time_registered(days)', (df_churn.registration)) \\\n",
    "    .groupBy('userId') \\\n",
    "    .agg({\"time_registered(days)\" : \"max\"}) \\\n",
    "    .withColumnRenamed('max(time_registered(days))', 'time_registered(days)') \\\n",
    "    .select('userId', (col('time_registered(days)')/1000/3600/24).alias('time_registered(days)')) \n",
    "\n",
    "f10.describe().show()"
   ]
  },
  {
   "cell_type": "markdown",
   "metadata": {},
   "source": [
    "**Merge all the features and label**"
   ]
  },
  {
   "cell_type": "code",
   "execution_count": 47,
   "metadata": {},
   "outputs": [
    {
     "name": "stdout",
     "output_type": "stream",
     "text": [
      "+--------------------+---------+----------+---------+------------+-------------+---------------+------------+-----------+------+-----+---------------------+\n",
      "|                song|num_songs|num_artist|sessionId|songs_played|num_thumbs_up|num_thumbs_down|num_playlist|num_friends|gender|label|time_registered(days)|\n",
      "+--------------------+---------+----------+---------+------------+-------------+---------------+------------+-----------+------+-----+---------------------+\n",
      "|      Radar Detector|        1|        94|       62|          49|            4|              3|           1|          3|     1|    1|   17801.115046296294|\n",
      "|      Radar Detector|        1|        94|      166|          47|            4|              3|           1|          3|     1|    1|   17801.115046296294|\n",
      "|              Bionik|        1|        94|       62|          49|            4|              3|           1|          3|     1|    1|   17801.115046296294|\n",
      "|              Bionik|        1|        94|      166|          47|            4|              3|           1|          3|     1|    1|   17801.115046296294|\n",
      "|   How You Remind Me|        1|        94|       62|          49|            4|              3|           1|          3|     1|    1|   17801.115046296294|\n",
      "|   How You Remind Me|        1|        94|      166|          47|            4|              3|           1|          3|     1|    1|   17801.115046296294|\n",
      "|  With Blood Adorned|        1|        94|       62|          49|            4|              3|           1|          3|     1|    1|   17801.115046296294|\n",
      "|  With Blood Adorned|        1|        94|      166|          47|            4|              3|           1|          3|     1|    1|   17801.115046296294|\n",
      "|Tonight I'll Be L...|        1|        94|       62|          49|            4|              3|           1|          3|     1|    1|   17801.115046296294|\n",
      "|Tonight I'll Be L...|        1|        94|      166|          47|            4|              3|           1|          3|     1|    1|   17801.115046296294|\n",
      "|How Can I Live (S...|        1|        94|       62|          49|            4|              3|           1|          3|     1|    1|   17801.115046296294|\n",
      "|How Can I Live (S...|        1|        94|      166|          47|            4|              3|           1|          3|     1|    1|   17801.115046296294|\n",
      "|           Swan Dive|        1|        94|       62|          49|            4|              3|           1|          3|     1|    1|   17801.115046296294|\n",
      "|           Swan Dive|        1|        94|      166|          47|            4|              3|           1|          3|     1|    1|   17801.115046296294|\n",
      "|The Dollar Done Fell|        1|        94|       62|          49|            4|              3|           1|          3|     1|    1|   17801.115046296294|\n",
      "|The Dollar Done Fell|        1|        94|      166|          47|            4|              3|           1|          3|     1|    1|   17801.115046296294|\n",
      "|        Up Up & Away|        1|        94|       62|          49|            4|              3|           1|          3|     1|    1|   17801.115046296294|\n",
      "|        Up Up & Away|        1|        94|      166|          47|            4|              3|           1|          3|     1|    1|   17801.115046296294|\n",
      "|Chicken Fried (Al...|        1|        94|       62|          49|            4|              3|           1|          3|     1|    1|   17801.115046296294|\n",
      "|Chicken Fried (Al...|        1|        94|      166|          47|            4|              3|           1|          3|     1|    1|   17801.115046296294|\n",
      "+--------------------+---------+----------+---------+------------+-------------+---------------+------------+-----------+------+-----+---------------------+\n",
      "only showing top 20 rows\n",
      "\n"
     ]
    }
   ],
   "source": [
    "merged_features = f1.join(f2,'userId','outer') \\\n",
    "    .join(f3,'userId','outer') \\\n",
    "    .join(f4,'userId','outer') \\\n",
    "    .join(f5,'userId','outer') \\\n",
    "    .join(f6,'userId','outer') \\\n",
    "    .join(f7,'userId','outer') \\\n",
    "    .join(f8,'userId','outer') \\\n",
    "    .join(f9_label,'userId','outer') \\\n",
    "    .join(f10,'userId','outer') \\\n",
    "    .drop('userId') \\\n",
    "    .fillna(0)\n",
    "\n",
    "merged_features.show()"
   ]
  },
  {
   "cell_type": "markdown",
   "metadata": {},
   "source": [
    "### Modeling\n",
    "\n",
    "Split the full dataset into train, test, and validation sets. Test out several of the machine learning methods you learned. Evaluate the accuracy of the various models, tuning parameters as necessary. Determine your winning model based on test accuracy and report results on the validation set. Since the churned users are a fairly small subset, I suggest using F1 score as the metric to optimize."
   ]
  },
  {
   "cell_type": "markdown",
   "metadata": {},
   "source": [
    "#### Data Pre-Processing"
   ]
  },
  {
   "cell_type": "markdown",
   "metadata": {},
   "source": [
    "**Vectorize the features for training, validation and testing**"
   ]
  },
  {
   "cell_type": "code",
   "execution_count": 48,
   "metadata": {},
   "outputs": [],
   "source": [
    "vec_assembler = VectorAssembler(inputCols=merged_features.columns[1:-1], outputCol=\"NumFeatures\")\n",
    "merged_features = vec_assembler.transform(merged_features)"
   ]
  },
  {
   "cell_type": "markdown",
   "metadata": {},
   "source": [
    "**Standardize the features**. This step takes care of values with very wide margins from the rest of the data. The data is rescaled int a certain range in order to make two different attributes to be directly comparable. This also means massaging the data into a normal range. \n",
    "\n",
    "This is achieved by subtracting the mean of each feature divided by each features standard deviation, `x' = (x - avg(x))/stddev`\n",
    "\n",
    "Where `x` is the original feature vector, `avg(x)` is the mean of that feature vector, and `stddev` is its standard deviation."
   ]
  },
  {
   "cell_type": "markdown",
   "metadata": {},
   "source": [
    "**Standard Scaler**"
   ]
  },
  {
   "cell_type": "code",
   "execution_count": 50,
   "metadata": {},
   "outputs": [],
   "source": [
    "std_scaler= StandardScaler(inputCol=\"NumFeatures\", outputCol=(\"features\"), withStd=True)\n",
    "std_scaler = std_scaler.fit(merged_features)\n",
    "merged_features = std_scaler.transform(merged_features)"
   ]
  },
  {
   "cell_type": "markdown",
   "metadata": {},
   "source": [
    "#### Data Splitting for Modeling"
   ]
  },
  {
   "cell_type": "markdown",
   "metadata": {},
   "source": [
    "Split the data for developing our model into 3 parts;train, test, validation. Use randomSplit for proper random shuffling of the data during splitting."
   ]
  },
  {
   "cell_type": "code",
   "execution_count": 51,
   "metadata": {},
   "outputs": [],
   "source": [
    "train, rest = merged_features.randomSplit([0.7, 0.3], seed=42)\n",
    "test, validation = rest.randomSplit([0.5, 0.5], seed=42)"
   ]
  },
  {
   "cell_type": "code",
   "execution_count": 52,
   "metadata": {},
   "outputs": [
    {
     "name": "stdout",
     "output_type": "stream",
     "text": [
      "root\n",
      " |-- song: string (nullable = true)\n",
      " |-- num_songs: long (nullable = true)\n",
      " |-- num_artist: long (nullable = true)\n",
      " |-- sessionId: long (nullable = true)\n",
      " |-- songs_played: long (nullable = true)\n",
      " |-- num_thumbs_up: long (nullable = true)\n",
      " |-- num_thumbs_down: long (nullable = true)\n",
      " |-- num_playlist: long (nullable = true)\n",
      " |-- num_friends: long (nullable = true)\n",
      " |-- gender: integer (nullable = true)\n",
      " |-- label: integer (nullable = true)\n",
      " |-- time_registered(days): double (nullable = false)\n",
      " |-- NumFeatures: vector (nullable = true)\n",
      " |-- features: vector (nullable = true)\n",
      "\n"
     ]
    }
   ],
   "source": [
    "train.printSchema()"
   ]
  },
  {
   "cell_type": "code",
   "execution_count": 53,
   "metadata": {},
   "outputs": [
    {
     "name": "stdout",
     "output_type": "stream",
     "text": [
      "root\n",
      " |-- song: string (nullable = true)\n",
      " |-- num_songs: long (nullable = true)\n",
      " |-- num_artist: long (nullable = true)\n",
      " |-- sessionId: long (nullable = true)\n",
      " |-- songs_played: long (nullable = true)\n",
      " |-- num_thumbs_up: long (nullable = true)\n",
      " |-- num_thumbs_down: long (nullable = true)\n",
      " |-- num_playlist: long (nullable = true)\n",
      " |-- num_friends: long (nullable = true)\n",
      " |-- gender: integer (nullable = true)\n",
      " |-- label: integer (nullable = true)\n",
      " |-- time_registered(days): double (nullable = false)\n",
      " |-- NumFeatures: vector (nullable = true)\n",
      " |-- features: vector (nullable = true)\n",
      "\n"
     ]
    }
   ],
   "source": [
    "test.printSchema()"
   ]
  },
  {
   "cell_type": "code",
   "execution_count": 54,
   "metadata": {},
   "outputs": [
    {
     "name": "stdout",
     "output_type": "stream",
     "text": [
      "root\n",
      " |-- song: string (nullable = true)\n",
      " |-- num_songs: long (nullable = true)\n",
      " |-- num_artist: long (nullable = true)\n",
      " |-- sessionId: long (nullable = true)\n",
      " |-- songs_played: long (nullable = true)\n",
      " |-- num_thumbs_up: long (nullable = true)\n",
      " |-- num_thumbs_down: long (nullable = true)\n",
      " |-- num_playlist: long (nullable = true)\n",
      " |-- num_friends: long (nullable = true)\n",
      " |-- gender: integer (nullable = true)\n",
      " |-- label: integer (nullable = true)\n",
      " |-- time_registered(days): double (nullable = false)\n",
      " |-- NumFeatures: vector (nullable = true)\n",
      " |-- features: vector (nullable = true)\n",
      "\n"
     ]
    }
   ],
   "source": [
    "validation.printSchema()"
   ]
  },
  {
   "cell_type": "markdown",
   "metadata": {},
   "source": [
    "**Baseline Model**"
   ]
  },
  {
   "cell_type": "markdown",
   "metadata": {},
   "source": [
    "Using binary models where all users cancel as `(churn=1)` and all users stay of the platform as `churn=0`. Performance of these 2 models will be based on their accuracy and f1-score."
   ]
  },
  {
   "cell_type": "code",
   "execution_count": 57,
   "metadata": {
    "scrolled": true
   },
   "outputs": [
    {
     "name": "stdout",
     "output_type": "stream",
     "text": [
      "Baseline evaluation:\n",
      "Accuracy:0.18281497636238028\n",
      "F-1 Score: 0.05651148531304753\n"
     ]
    }
   ],
   "source": [
    "base_0 = test.withColumn('prediction', lit(1.0))\n",
    "\n",
    "test_eval = MulticlassClassificationEvaluator(predictionCol=\"prediction\")\n",
    "print(\"Baseline evaluation:\")\n",
    "print(\"Accuracy:{}\".format(test_eval.evaluate(base_0, {test_eval.metricName: \"accuracy\"})))\n",
    "print(\"F-1 Score: {}\".format(test_eval.evaluate(base_0, {test_eval.metricName: \"f1\"})))"
   ]
  },
  {
   "cell_type": "code",
   "execution_count": null,
   "metadata": {},
   "outputs": [],
   "source": []
  },
  {
   "cell_type": "code",
   "execution_count": 58,
   "metadata": {},
   "outputs": [
    {
     "name": "stdout",
     "output_type": "stream",
     "text": [
      "Baseline evaluation:\n",
      "Accuracy:0.18281497636238028\n",
      "F-1 Score: 0.05651148531304753\n"
     ]
    }
   ],
   "source": [
    "base_1 = test.withColumn('prediction', lit(1.0))\n",
    "\n",
    "test_eval = MulticlassClassificationEvaluator(predictionCol=\"prediction\")\n",
    "print(\"Baseline evaluation:\")\n",
    "print(\"Accuracy:{}\".format(test_eval.evaluate(base_1, {test_eval.metricName: \"accuracy\"})))\n",
    "print(\"F-1 Score: {}\".format(test_eval.evaluate(base_1, {test_eval.metricName: \"f1\"})))"
   ]
  },
  {
   "cell_type": "code",
   "execution_count": null,
   "metadata": {},
   "outputs": [],
   "source": []
  },
  {
   "cell_type": "markdown",
   "metadata": {},
   "source": [
    "### Random Forest"
   ]
  },
  {
   "cell_type": "code",
   "execution_count": 66,
   "metadata": {},
   "outputs": [],
   "source": [
    "# initialize classifier\n",
    "random_forest = RandomForestClassifier()\n",
    "\n",
    "# set evaluator\n",
    "f1_eval = MulticlassClassificationEvaluator(metricName='f1')\n",
    "\n",
    "# build paramGrid\n",
    "paramGrid = ParamGridBuilder().build()\n",
    "\n",
    "crossval_rf = CrossValidator(estimator=random_forest,\n",
    "                          estimatorParamMaps=paramGrid,\n",
    "                          evaluator=f1_eval,\n",
    "                          numFolds=4)"
   ]
  },
  {
   "cell_type": "code",
   "execution_count": 67,
   "metadata": {},
   "outputs": [
    {
     "name": "stdout",
     "output_type": "stream",
     "text": [
      "Training completed after 1711.9609940052032 seconds\n"
     ]
    }
   ],
   "source": [
    "start = time()\n",
    "cvModel_rf = crossval_rf.fit(train)\n",
    "end = time()\n",
    "cvModel_rf.avgMetrics\n",
    "print('Training completed after {} seconds'.format(end - start))"
   ]
  },
  {
   "cell_type": "code",
   "execution_count": 61,
   "metadata": {},
   "outputs": [],
   "source": [
    "result_rf = cvModel_rf.transform(validation)"
   ]
  },
  {
   "cell_type": "code",
   "execution_count": 62,
   "metadata": {},
   "outputs": [
    {
     "name": "stdout",
     "output_type": "stream",
     "text": [
      "Evaluation Metrics for Random Forest:\n",
      "Accuracy:1.0\n",
      "F-1 Score: 1.0\n"
     ]
    }
   ],
   "source": [
    "test_eval = MulticlassClassificationEvaluator(predictionCol=\"prediction\")\n",
    "print(\"Evaluation Metrics for Random Forest:\")\n",
    "print(\"Accuracy:{}\".format(test_eval.evaluate(result_rf, {test_eval.metricName: \"accuracy\"})))\n",
    "print(\"F-1 Score: {}\".format(test_eval.evaluate(result_rf, {test_eval.metricName: \"f1\"})))"
   ]
  },
  {
   "cell_type": "markdown",
   "metadata": {},
   "source": [
    "### Logistic Regression"
   ]
  },
  {
   "cell_type": "code",
   "execution_count": 68,
   "metadata": {},
   "outputs": [],
   "source": [
    "# initialize classifier\n",
    "logreg = LogisticRegression(maxIter=10)\n",
    "\n",
    "# set evaluator\n",
    "f1_eval = MulticlassClassificationEvaluator(metricName='f1')\n",
    "\n",
    "# build paramGrid\n",
    "paramGrid = ParamGridBuilder() \\\n",
    "    .build()\n",
    "\n",
    "crossval_logreg = CrossValidator(estimator=logreg,\n",
    "                          evaluator=f1_eval, \n",
    "                          estimatorParamMaps=paramGrid,\n",
    "                          numFolds=3)"
   ]
  },
  {
   "cell_type": "code",
   "execution_count": 69,
   "metadata": {},
   "outputs": [
    {
     "name": "stdout",
     "output_type": "stream",
     "text": [
      "Training completed in 1323.0848052501678 seconds\n"
     ]
    }
   ],
   "source": [
    "start = time()\n",
    "cvModel_logreg = crossval_logreg.fit(train)\n",
    "end = time()\n",
    "cvModel_logreg.avgMetrics\n",
    "print('Training completed in {} seconds'.format(end - start))"
   ]
  },
  {
   "cell_type": "code",
   "execution_count": 71,
   "metadata": {
    "scrolled": true
   },
   "outputs": [
    {
     "name": "stdout",
     "output_type": "stream",
     "text": [
      "Evaluation from Logistic Regression:\n",
      "Accuracy: 0.9999702311886484\n",
      "F-1 Score:0.999970230237842\n"
     ]
    }
   ],
   "source": [
    "result_logreg = cvModel_logreg.transform(validation)\n",
    "\n",
    "test_eval = MulticlassClassificationEvaluator(predictionCol=\"prediction\")\n",
    "\n",
    "print('Evaluation from Logistic Regression:')\n",
    "print('Accuracy: {}'.format(test_eval.evaluate(result_logreg, {test_eval.metricName: \"accuracy\"})))\n",
    "print('F-1 Score:{}'.format(test_eval.evaluate(result_logreg, {test_eval.metricName: \"f1\"})))"
   ]
  },
  {
   "cell_type": "markdown",
   "metadata": {},
   "source": [
    "### Gradient Boosting Trees (GBT)"
   ]
  },
  {
   "cell_type": "markdown",
   "metadata": {},
   "source": [
    "Gradient Boosting: GBT build trees one at a time, where each new tree helps to correct errors made by previously trained tree."
   ]
  },
  {
   "cell_type": "code",
   "execution_count": 72,
   "metadata": {},
   "outputs": [],
   "source": [
    "# initialize classifier\n",
    "gbt = GBTClassifier(maxIter=10,seed=42)\n",
    "\n",
    "# set evaluator\n",
    "f1_eval = MulticlassClassificationEvaluator(metricName='f1')\n",
    "\n",
    "# build paramGrid\n",
    "paramGrid = ParamGridBuilder().build()\n",
    "\n",
    "crossval_gbt = CrossValidator(estimator=gbt,\n",
    "                          estimatorParamMaps=paramGrid,\n",
    "                          evaluator=f1_eval,\n",
    "                          numFolds=3)"
   ]
  },
  {
   "cell_type": "code",
   "execution_count": 73,
   "metadata": {},
   "outputs": [
    {
     "name": "stdout",
     "output_type": "stream",
     "text": [
      "Training completed in 2596.5407004356384 seconds\n"
     ]
    }
   ],
   "source": [
    "start = time()\n",
    "cvModel_gbt = crossval_gbt.fit(train)\n",
    "end = time()\n",
    "cvModel_gbt.avgMetrics\n",
    "print('Training completed in {} seconds'.format(end - start))"
   ]
  },
  {
   "cell_type": "code",
   "execution_count": 74,
   "metadata": {},
   "outputs": [],
   "source": [
    "result_gbt = cvModel_gbt.transform(validation)"
   ]
  },
  {
   "cell_type": "code",
   "execution_count": 75,
   "metadata": {},
   "outputs": [
    {
     "name": "stdout",
     "output_type": "stream",
     "text": [
      "Evaluation from Gradient Boosted Trees:\n",
      "Accuracy: 1.0\n",
      "F-1 Score:1.0\n"
     ]
    }
   ],
   "source": [
    "test_eval = MulticlassClassificationEvaluator(predictionCol=\"prediction\")\n",
    "print('Evaluation from Gradient Boosted Trees:')\n",
    "print('Accuracy: {}'.format(test_eval.evaluate(result_gbt, {test_eval.metricName: \"accuracy\"})))\n",
    "print('F-1 Score:{}'.format(test_eval.evaluate(result_gbt, {test_eval.metricName: \"f1\"})))"
   ]
  },
  {
   "cell_type": "code",
   "execution_count": null,
   "metadata": {},
   "outputs": [],
   "source": []
  },
  {
   "cell_type": "markdown",
   "metadata": {},
   "source": [
    "The time and resources that went into training the 3 models is quiite significant.\n",
    "From the 3 different models trained here, it is more beneficial and cost effective to choose the best performing model."
   ]
  },
  {
   "cell_type": "code",
   "execution_count": null,
   "metadata": {},
   "outputs": [],
   "source": []
  },
  {
   "cell_type": "code",
   "execution_count": null,
   "metadata": {},
   "outputs": [],
   "source": []
  },
  {
   "cell_type": "code",
   "execution_count": null,
   "metadata": {},
   "outputs": [],
   "source": []
  }
 ],
 "metadata": {
  "kernelspec": {
   "display_name": "Python 3.6 with Spark",
   "language": "python3",
   "name": "python36"
  },
  "language_info": {
   "codemirror_mode": {
    "name": "ipython",
    "version": 3
   },
   "file_extension": ".py",
   "mimetype": "text/x-python",
   "name": "python",
   "nbconvert_exporter": "python",
   "pygments_lexer": "ipython3",
   "version": "3.6.8"
  }
 },
 "nbformat": 4,
 "nbformat_minor": 1
}
