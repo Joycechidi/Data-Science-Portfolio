{
 "cells": [
  {
   "cell_type": "code",
   "execution_count": 1,
   "metadata": {
    "scrolled": false
   },
   "outputs": [
    {
     "name": "stdout",
     "output_type": "stream",
     "text": [
      "Waiting for a Spark session to start...\n",
      "Spark Initialization Done! ApplicationId = app-20200401074629-0000\n",
      "KERNEL_ID = e0769662-733d-43c6-848c-452cef58ca40\n"
     ]
    }
   ],
   "source": [
    "\n",
    "import ibmos2spark\n",
    "# @hidden_cell\n",
    "credentials = {\n",
    "    'endpoint': 'https://s3-api.us-geo.objectstorage.service.networklayer.com',\n",
    "    'service_id': 'iam-ServiceId-b475155b-bbba-4ff0-870f-ba74738d9ed8',\n",
    "    'iam_service_endpoint': 'https://iam.ng.bluemix.net/oidc/token',\n",
    "    'api_key': '1ls3Z7jCl6h8x6Bwm91ZbZsRGbCBg7PzamaXhOGqRWkO'\n",
    "}\n",
    "\n",
    "configuration_name = 'os_92fcb5354ce74da3be6f2563692e642a_configs'\n",
    "cos = ibmos2spark.CloudObjectStorage(sc, credentials, configuration_name, 'bluemix_cos')\n",
    "\n",
    "from pyspark.sql import SparkSession\n",
    "spark = SparkSession.builder.getOrCreate()\n",
    "# Since JSON data can be semi-structured and contain additional metadata, it is possible that you might face issues with the DataFrame layout.\n",
    "# Please read the documentation of 'SparkSession.read()' to learn more about the possibilities to adjust the data loading.\n",
    "# PySpark documentation: http://spark.apache.org/docs/2.0.2/api/python/pyspark.sql.html#pyspark.sql.DataFrameReader.json\n",
    "\n",
    "# df_data_1 = spark.read.json(cos.url('medium-sparkify-event-data.json', 'sparkify-donotdelete-pr-wdfnofq36jg14o'))\n",
    "# df_data_1.take(5)\n"
   ]
  },
  {
   "cell_type": "code",
   "execution_count": 2,
   "metadata": {},
   "outputs": [],
   "source": [
    "from pyspark.sql import SparkSession\n",
    "from pyspark.sql.types import IntegerType, LongType\n",
    "from pyspark.sql.functions import desc, explode, udf, lit, col, isnull, avg, min, max, stddev, split, concat\n",
    "from pyspark.sql import Window\n",
    "\n",
    "from pyspark.ml import Pipeline\n",
    "from pyspark.ml.classification import LogisticRegression, RandomForestClassifier, GBTClassifier\n",
    "from pyspark.ml.evaluation import MulticlassClassificationEvaluator\n",
    "from pyspark.ml.feature import StandardScaler, VectorAssembler\n",
    "from pyspark.ml.tuning import CrossValidator, ParamGridBuilder\n",
    "\n",
    "import re\n",
    "import pandas as pd\n",
    "import matplotlib.pyplot as plt\n",
    "import seaborn as sb\n",
    "import datetime\n",
    "from time import time"
   ]
  },
  {
   "cell_type": "code",
   "execution_count": 3,
   "metadata": {},
   "outputs": [],
   "source": [
    "spark = SparkSession.builder.appName(\"Sparkify-Project\").getOrCreate()"
   ]
  },
  {
   "cell_type": "markdown",
   "metadata": {},
   "source": [
    "### Load and Clean Dataset\n",
    "In this workspace, the mini-dataset file is mini_sparkify_event_data.json. Load and clean the dataset, checking for invalid or missing data - for example, records without userids or sessionids."
   ]
  },
  {
   "cell_type": "code",
   "execution_count": 4,
   "metadata": {},
   "outputs": [
    {
     "data": {
      "text/plain": [
       "DataFrame[artist: string, auth: string, firstName: string, gender: string, itemInSession: bigint, lastName: string, length: double, level: string, location: string, method: string, page: string, registration: bigint, sessionId: bigint, song: string, status: bigint, ts: bigint, userAgent: string, userId: string]"
      ]
     },
     "execution_count": 4,
     "metadata": {},
     "output_type": "execute_result"
    }
   ],
   "source": [
    "df = spark.read.json(cos.url('medium-sparkify-event-data.json', 'sparkify-donotdelete-pr-wdfnofq36jg14o'))\n",
    "df.persist()"
   ]
  },
  {
   "cell_type": "code",
   "execution_count": 5,
   "metadata": {},
   "outputs": [
    {
     "data": {
      "text/plain": [
       "[Row(artist='Martin Orford', auth='Logged In', firstName='Joseph', gender='M', itemInSession=20, lastName='Morales', length=597.55057, level='free', location='Corpus Christi, TX', method='PUT', page='NextSong', registration=1532063507000, sessionId=292, song='Grand Designs', status=200, ts=1538352011000, userAgent='\"Mozilla/5.0 (Macintosh; Intel Mac OS X 10_9_4) AppleWebKit/537.36 (KHTML, like Gecko) Chrome/36.0.1985.125 Safari/537.36\"', userId='293'),\n",
       " Row(artist=\"John Brown's Body\", auth='Logged In', firstName='Sawyer', gender='M', itemInSession=74, lastName='Larson', length=380.21179, level='free', location='Houston-The Woodlands-Sugar Land, TX', method='PUT', page='NextSong', registration=1538069638000, sessionId=97, song='Bulls', status=200, ts=1538352025000, userAgent='\"Mozilla/5.0 (Macintosh; Intel Mac OS X 10_9_4) AppleWebKit/537.36 (KHTML, like Gecko) Chrome/36.0.1985.143 Safari/537.36\"', userId='98'),\n",
       " Row(artist='Afroman', auth='Logged In', firstName='Maverick', gender='M', itemInSession=184, lastName='Santiago', length=202.37016, level='paid', location='Orlando-Kissimmee-Sanford, FL', method='PUT', page='NextSong', registration=1535953455000, sessionId=178, song='Because I Got High', status=200, ts=1538352118000, userAgent='\"Mozilla/5.0 (Macintosh; Intel Mac OS X 10_9_4) AppleWebKit/537.36 (KHTML, like Gecko) Chrome/36.0.1985.143 Safari/537.36\"', userId='179'),\n",
       " Row(artist=None, auth='Logged In', firstName='Maverick', gender='M', itemInSession=185, lastName='Santiago', length=None, level='paid', location='Orlando-Kissimmee-Sanford, FL', method='PUT', page='Logout', registration=1535953455000, sessionId=178, song=None, status=307, ts=1538352119000, userAgent='\"Mozilla/5.0 (Macintosh; Intel Mac OS X 10_9_4) AppleWebKit/537.36 (KHTML, like Gecko) Chrome/36.0.1985.143 Safari/537.36\"', userId='179'),\n",
       " Row(artist='Lily Allen', auth='Logged In', firstName='Gianna', gender='F', itemInSession=22, lastName='Campos', length=194.53342, level='paid', location='Mobile, AL', method='PUT', page='NextSong', registration=1535931018000, sessionId=245, song='Smile (Radio Edit)', status=200, ts=1538352124000, userAgent='Mozilla/5.0 (Windows NT 6.1; WOW64; rv:31.0) Gecko/20100101 Firefox/31.0', userId='246')]"
      ]
     },
     "execution_count": 5,
     "metadata": {},
     "output_type": "execute_result"
    }
   ],
   "source": [
    "df.take(5)"
   ]
  },
  {
   "cell_type": "markdown",
   "metadata": {},
   "source": [
    "**What does the schema look like**"
   ]
  },
  {
   "cell_type": "code",
   "execution_count": 6,
   "metadata": {
    "scrolled": true
   },
   "outputs": [
    {
     "name": "stdout",
     "output_type": "stream",
     "text": [
      "root\n",
      " |-- artist: string (nullable = true)\n",
      " |-- auth: string (nullable = true)\n",
      " |-- firstName: string (nullable = true)\n",
      " |-- gender: string (nullable = true)\n",
      " |-- itemInSession: long (nullable = true)\n",
      " |-- lastName: string (nullable = true)\n",
      " |-- length: double (nullable = true)\n",
      " |-- level: string (nullable = true)\n",
      " |-- location: string (nullable = true)\n",
      " |-- method: string (nullable = true)\n",
      " |-- page: string (nullable = true)\n",
      " |-- registration: long (nullable = true)\n",
      " |-- sessionId: long (nullable = true)\n",
      " |-- song: string (nullable = true)\n",
      " |-- status: long (nullable = true)\n",
      " |-- ts: long (nullable = true)\n",
      " |-- userAgent: string (nullable = true)\n",
      " |-- userId: string (nullable = true)\n",
      "\n"
     ]
    }
   ],
   "source": [
    "df.printSchema()"
   ]
  },
  {
   "cell_type": "code",
   "execution_count": 7,
   "metadata": {},
   "outputs": [
    {
     "data": {
      "text/plain": [
       "543705"
      ]
     },
     "execution_count": 7,
     "metadata": {},
     "output_type": "execute_result"
    }
   ],
   "source": [
    "df.count()"
   ]
  },
  {
   "cell_type": "markdown",
   "metadata": {},
   "source": [
    "Top 10 rows show there are a lot of duplicate userIds which could come from different login sessions of number of music a user is streaming"
   ]
  },
  {
   "cell_type": "code",
   "execution_count": 8,
   "metadata": {},
   "outputs": [
    {
     "data": {
      "text/plain": [
       "528005"
      ]
     },
     "execution_count": 8,
     "metadata": {},
     "output_type": "execute_result"
    }
   ],
   "source": [
    "# Are there non-registered users with NAN userId values\n",
    "# filter for users with blank user id\n",
    "df2 = df.filter(df.userId!=\"\")\n",
    "df2.count()"
   ]
  },
  {
   "cell_type": "code",
   "execution_count": 9,
   "metadata": {},
   "outputs": [
    {
     "data": {
      "text/plain": [
       "528005"
      ]
     },
     "execution_count": 9,
     "metadata": {},
     "output_type": "execute_result"
    }
   ],
   "source": [
    "#Drop NaN values in userIds\n",
    "df2 = df2.dropna(how = \"any\", subset = [\"userId\", \"sessionId\"])\n",
    "df2.count()"
   ]
  },
  {
   "cell_type": "markdown",
   "metadata": {},
   "source": [
    "### Exploratory Data Analysis\n",
    "When you're working with the full dataset, perform EDA by loading a small subset of the data and doing basic manipulations within Spark. In this workspace, you are already provided a small subset of data you can explore.\n",
    "\n",
    "#### Define Churn\n",
    "Once you've done some preliminary analysis, create a column Churn to use as the label for your model. I suggest using the Cancellation Confirmation events to define your churn, which happen for both paid and free users. As a bonus task, you can also look into the Downgrade events.\n",
    "\n",
    "#### Explore Data\n",
    "Once you've defined churn, perform some exploratory data analysis to observe the behavior for users who stayed vs users who churned. You can start by exploring aggregates on these two groups of users, observing how much of a specific action they experienced per a certain time unit or number of songs played."
   ]
  },
  {
   "cell_type": "markdown",
   "metadata": {},
   "source": [
    "**What are the available pages on the platform?**"
   ]
  },
  {
   "cell_type": "code",
   "execution_count": 10,
   "metadata": {},
   "outputs": [
    {
     "name": "stdout",
     "output_type": "stream",
     "text": [
      "+--------------------+\n",
      "|                page|\n",
      "+--------------------+\n",
      "|              Cancel|\n",
      "|    Submit Downgrade|\n",
      "|         Thumbs Down|\n",
      "|                Home|\n",
      "|           Downgrade|\n",
      "|         Roll Advert|\n",
      "|              Logout|\n",
      "|       Save Settings|\n",
      "|Cancellation Conf...|\n",
      "|               About|\n",
      "|            Settings|\n",
      "|     Add to Playlist|\n",
      "|          Add Friend|\n",
      "|            NextSong|\n",
      "|           Thumbs Up|\n",
      "|                Help|\n",
      "|             Upgrade|\n",
      "|               Error|\n",
      "|      Submit Upgrade|\n",
      "+--------------------+\n",
      "\n"
     ]
    }
   ],
   "source": [
    "all_pages = df2.select('page').dropDuplicates().show()"
   ]
  },
  {
   "cell_type": "code",
   "execution_count": 11,
   "metadata": {},
   "outputs": [],
   "source": [
    "df2.createOrReplaceTempView(\"event_table\")"
   ]
  },
  {
   "cell_type": "code",
   "execution_count": 12,
   "metadata": {},
   "outputs": [
    {
     "name": "stdout",
     "output_type": "stream",
     "text": [
      "+----------------------+\n",
      "|count(DISTINCT userId)|\n",
      "+----------------------+\n",
      "|                   198|\n",
      "+----------------------+\n",
      "\n"
     ]
    }
   ],
   "source": [
    "spark.sql(\"SELECT COUNT(DISTINCT userId) from event_table WHERE gender = 'F'\").show()"
   ]
  },
  {
   "cell_type": "code",
   "execution_count": 13,
   "metadata": {},
   "outputs": [
    {
     "name": "stdout",
     "output_type": "stream",
     "text": [
      "+----------------------+\n",
      "|count(DISTINCT userId)|\n",
      "+----------------------+\n",
      "|                   250|\n",
      "+----------------------+\n",
      "\n"
     ]
    }
   ],
   "source": [
    "spark.sql(\"SELECT COUNT(DISTINCT userId) from event_table WHERE gender = 'M'\").show()"
   ]
  },
  {
   "cell_type": "markdown",
   "metadata": {},
   "source": [
    "To get a good summary of this dataset, I'll convert it to pandas dataframe."
   ]
  },
  {
   "cell_type": "code",
   "execution_count": 14,
   "metadata": {},
   "outputs": [],
   "source": [
    "df2_pandas = df2.toPandas()"
   ]
  },
  {
   "cell_type": "code",
   "execution_count": 15,
   "metadata": {},
   "outputs": [
    {
     "data": {
      "text/html": [
       "<div>\n",
       "<style scoped>\n",
       "    .dataframe tbody tr th:only-of-type {\n",
       "        vertical-align: middle;\n",
       "    }\n",
       "\n",
       "    .dataframe tbody tr th {\n",
       "        vertical-align: top;\n",
       "    }\n",
       "\n",
       "    .dataframe thead th {\n",
       "        text-align: right;\n",
       "    }\n",
       "</style>\n",
       "<table border=\"1\" class=\"dataframe\">\n",
       "  <thead>\n",
       "    <tr style=\"text-align: right;\">\n",
       "      <th></th>\n",
       "      <th>artist</th>\n",
       "      <th>auth</th>\n",
       "      <th>firstName</th>\n",
       "      <th>gender</th>\n",
       "      <th>itemInSession</th>\n",
       "      <th>lastName</th>\n",
       "      <th>length</th>\n",
       "      <th>level</th>\n",
       "      <th>location</th>\n",
       "      <th>method</th>\n",
       "      <th>page</th>\n",
       "      <th>registration</th>\n",
       "      <th>sessionId</th>\n",
       "      <th>song</th>\n",
       "      <th>status</th>\n",
       "      <th>ts</th>\n",
       "      <th>userAgent</th>\n",
       "      <th>userId</th>\n",
       "    </tr>\n",
       "  </thead>\n",
       "  <tbody>\n",
       "    <tr>\n",
       "      <th>count</th>\n",
       "      <td>432877</td>\n",
       "      <td>528005</td>\n",
       "      <td>528005</td>\n",
       "      <td>528005</td>\n",
       "      <td>528005.000000</td>\n",
       "      <td>528005</td>\n",
       "      <td>432877.000000</td>\n",
       "      <td>528005</td>\n",
       "      <td>528005</td>\n",
       "      <td>528005</td>\n",
       "      <td>528005</td>\n",
       "      <td>5.280050e+05</td>\n",
       "      <td>528005.000000</td>\n",
       "      <td>432877</td>\n",
       "      <td>528005.000000</td>\n",
       "      <td>5.280050e+05</td>\n",
       "      <td>528005</td>\n",
       "      <td>528005</td>\n",
       "    </tr>\n",
       "    <tr>\n",
       "      <th>unique</th>\n",
       "      <td>21247</td>\n",
       "      <td>2</td>\n",
       "      <td>345</td>\n",
       "      <td>2</td>\n",
       "      <td>NaN</td>\n",
       "      <td>275</td>\n",
       "      <td>NaN</td>\n",
       "      <td>2</td>\n",
       "      <td>192</td>\n",
       "      <td>2</td>\n",
       "      <td>19</td>\n",
       "      <td>NaN</td>\n",
       "      <td>NaN</td>\n",
       "      <td>80292</td>\n",
       "      <td>NaN</td>\n",
       "      <td>NaN</td>\n",
       "      <td>71</td>\n",
       "      <td>448</td>\n",
       "    </tr>\n",
       "    <tr>\n",
       "      <th>top</th>\n",
       "      <td>Kings Of Leon</td>\n",
       "      <td>Logged In</td>\n",
       "      <td>Joseph</td>\n",
       "      <td>M</td>\n",
       "      <td>NaN</td>\n",
       "      <td>Reed</td>\n",
       "      <td>NaN</td>\n",
       "      <td>paid</td>\n",
       "      <td>New York-Newark-Jersey City, NY-NJ-PA</td>\n",
       "      <td>PUT</td>\n",
       "      <td>NextSong</td>\n",
       "      <td>NaN</td>\n",
       "      <td>NaN</td>\n",
       "      <td>You're The One</td>\n",
       "      <td>NaN</td>\n",
       "      <td>NaN</td>\n",
       "      <td>\"Mozilla/5.0 (Macintosh; Intel Mac OS X 10_9_4...</td>\n",
       "      <td>92</td>\n",
       "    </tr>\n",
       "    <tr>\n",
       "      <th>freq</th>\n",
       "      <td>3497</td>\n",
       "      <td>527906</td>\n",
       "      <td>13108</td>\n",
       "      <td>302612</td>\n",
       "      <td>NaN</td>\n",
       "      <td>12767</td>\n",
       "      <td>NaN</td>\n",
       "      <td>418044</td>\n",
       "      <td>40156</td>\n",
       "      <td>489128</td>\n",
       "      <td>432877</td>\n",
       "      <td>NaN</td>\n",
       "      <td>NaN</td>\n",
       "      <td>2219</td>\n",
       "      <td>NaN</td>\n",
       "      <td>NaN</td>\n",
       "      <td>46082</td>\n",
       "      <td>9767</td>\n",
       "    </tr>\n",
       "    <tr>\n",
       "      <th>mean</th>\n",
       "      <td>NaN</td>\n",
       "      <td>NaN</td>\n",
       "      <td>NaN</td>\n",
       "      <td>NaN</td>\n",
       "      <td>107.778995</td>\n",
       "      <td>NaN</td>\n",
       "      <td>248.664593</td>\n",
       "      <td>NaN</td>\n",
       "      <td>NaN</td>\n",
       "      <td>NaN</td>\n",
       "      <td>NaN</td>\n",
       "      <td>1.535523e+12</td>\n",
       "      <td>2042.980182</td>\n",
       "      <td>NaN</td>\n",
       "      <td>209.091062</td>\n",
       "      <td>1.540967e+12</td>\n",
       "      <td>NaN</td>\n",
       "      <td>NaN</td>\n",
       "    </tr>\n",
       "    <tr>\n",
       "      <th>std</th>\n",
       "      <td>NaN</td>\n",
       "      <td>NaN</td>\n",
       "      <td>NaN</td>\n",
       "      <td>NaN</td>\n",
       "      <td>116.864787</td>\n",
       "      <td>NaN</td>\n",
       "      <td>98.412670</td>\n",
       "      <td>NaN</td>\n",
       "      <td>NaN</td>\n",
       "      <td>NaN</td>\n",
       "      <td>NaN</td>\n",
       "      <td>3.078725e+09</td>\n",
       "      <td>1433.998149</td>\n",
       "      <td>NaN</td>\n",
       "      <td>30.148778</td>\n",
       "      <td>1.481233e+09</td>\n",
       "      <td>NaN</td>\n",
       "      <td>NaN</td>\n",
       "    </tr>\n",
       "    <tr>\n",
       "      <th>min</th>\n",
       "      <td>NaN</td>\n",
       "      <td>NaN</td>\n",
       "      <td>NaN</td>\n",
       "      <td>NaN</td>\n",
       "      <td>0.000000</td>\n",
       "      <td>NaN</td>\n",
       "      <td>0.783220</td>\n",
       "      <td>NaN</td>\n",
       "      <td>NaN</td>\n",
       "      <td>NaN</td>\n",
       "      <td>NaN</td>\n",
       "      <td>1.509854e+12</td>\n",
       "      <td>1.000000</td>\n",
       "      <td>NaN</td>\n",
       "      <td>200.000000</td>\n",
       "      <td>1.538352e+12</td>\n",
       "      <td>NaN</td>\n",
       "      <td>NaN</td>\n",
       "    </tr>\n",
       "    <tr>\n",
       "      <th>25%</th>\n",
       "      <td>NaN</td>\n",
       "      <td>NaN</td>\n",
       "      <td>NaN</td>\n",
       "      <td>NaN</td>\n",
       "      <td>27.000000</td>\n",
       "      <td>NaN</td>\n",
       "      <td>199.392200</td>\n",
       "      <td>NaN</td>\n",
       "      <td>NaN</td>\n",
       "      <td>NaN</td>\n",
       "      <td>NaN</td>\n",
       "      <td>1.534368e+12</td>\n",
       "      <td>632.000000</td>\n",
       "      <td>NaN</td>\n",
       "      <td>200.000000</td>\n",
       "      <td>1.539723e+12</td>\n",
       "      <td>NaN</td>\n",
       "      <td>NaN</td>\n",
       "    </tr>\n",
       "    <tr>\n",
       "      <th>50%</th>\n",
       "      <td>NaN</td>\n",
       "      <td>NaN</td>\n",
       "      <td>NaN</td>\n",
       "      <td>NaN</td>\n",
       "      <td>68.000000</td>\n",
       "      <td>NaN</td>\n",
       "      <td>234.004440</td>\n",
       "      <td>NaN</td>\n",
       "      <td>NaN</td>\n",
       "      <td>NaN</td>\n",
       "      <td>NaN</td>\n",
       "      <td>1.536556e+12</td>\n",
       "      <td>1973.000000</td>\n",
       "      <td>NaN</td>\n",
       "      <td>200.000000</td>\n",
       "      <td>1.541007e+12</td>\n",
       "      <td>NaN</td>\n",
       "      <td>NaN</td>\n",
       "    </tr>\n",
       "    <tr>\n",
       "      <th>75%</th>\n",
       "      <td>NaN</td>\n",
       "      <td>NaN</td>\n",
       "      <td>NaN</td>\n",
       "      <td>NaN</td>\n",
       "      <td>148.000000</td>\n",
       "      <td>NaN</td>\n",
       "      <td>276.793020</td>\n",
       "      <td>NaN</td>\n",
       "      <td>NaN</td>\n",
       "      <td>NaN</td>\n",
       "      <td>NaN</td>\n",
       "      <td>1.537612e+12</td>\n",
       "      <td>3310.000000</td>\n",
       "      <td>NaN</td>\n",
       "      <td>200.000000</td>\n",
       "      <td>1.542178e+12</td>\n",
       "      <td>NaN</td>\n",
       "      <td>NaN</td>\n",
       "    </tr>\n",
       "    <tr>\n",
       "      <th>max</th>\n",
       "      <td>NaN</td>\n",
       "      <td>NaN</td>\n",
       "      <td>NaN</td>\n",
       "      <td>NaN</td>\n",
       "      <td>1005.000000</td>\n",
       "      <td>NaN</td>\n",
       "      <td>3024.665670</td>\n",
       "      <td>NaN</td>\n",
       "      <td>NaN</td>\n",
       "      <td>NaN</td>\n",
       "      <td>NaN</td>\n",
       "      <td>1.543074e+12</td>\n",
       "      <td>4808.000000</td>\n",
       "      <td>NaN</td>\n",
       "      <td>404.000000</td>\n",
       "      <td>1.543622e+12</td>\n",
       "      <td>NaN</td>\n",
       "      <td>NaN</td>\n",
       "    </tr>\n",
       "  </tbody>\n",
       "</table>\n",
       "</div>"
      ],
      "text/plain": [
       "               artist       auth firstName  gender  itemInSession lastName  \\\n",
       "count          432877     528005    528005  528005  528005.000000   528005   \n",
       "unique          21247          2       345       2            NaN      275   \n",
       "top     Kings Of Leon  Logged In    Joseph       M            NaN     Reed   \n",
       "freq             3497     527906     13108  302612            NaN    12767   \n",
       "mean              NaN        NaN       NaN     NaN     107.778995      NaN   \n",
       "std               NaN        NaN       NaN     NaN     116.864787      NaN   \n",
       "min               NaN        NaN       NaN     NaN       0.000000      NaN   \n",
       "25%               NaN        NaN       NaN     NaN      27.000000      NaN   \n",
       "50%               NaN        NaN       NaN     NaN      68.000000      NaN   \n",
       "75%               NaN        NaN       NaN     NaN     148.000000      NaN   \n",
       "max               NaN        NaN       NaN     NaN    1005.000000      NaN   \n",
       "\n",
       "               length   level                               location  method  \\\n",
       "count   432877.000000  528005                                 528005  528005   \n",
       "unique            NaN       2                                    192       2   \n",
       "top               NaN    paid  New York-Newark-Jersey City, NY-NJ-PA     PUT   \n",
       "freq              NaN  418044                                  40156  489128   \n",
       "mean       248.664593     NaN                                    NaN     NaN   \n",
       "std         98.412670     NaN                                    NaN     NaN   \n",
       "min          0.783220     NaN                                    NaN     NaN   \n",
       "25%        199.392200     NaN                                    NaN     NaN   \n",
       "50%        234.004440     NaN                                    NaN     NaN   \n",
       "75%        276.793020     NaN                                    NaN     NaN   \n",
       "max       3024.665670     NaN                                    NaN     NaN   \n",
       "\n",
       "            page  registration      sessionId            song         status  \\\n",
       "count     528005  5.280050e+05  528005.000000          432877  528005.000000   \n",
       "unique        19           NaN            NaN           80292            NaN   \n",
       "top     NextSong           NaN            NaN  You're The One            NaN   \n",
       "freq      432877           NaN            NaN            2219            NaN   \n",
       "mean         NaN  1.535523e+12    2042.980182             NaN     209.091062   \n",
       "std          NaN  3.078725e+09    1433.998149             NaN      30.148778   \n",
       "min          NaN  1.509854e+12       1.000000             NaN     200.000000   \n",
       "25%          NaN  1.534368e+12     632.000000             NaN     200.000000   \n",
       "50%          NaN  1.536556e+12    1973.000000             NaN     200.000000   \n",
       "75%          NaN  1.537612e+12    3310.000000             NaN     200.000000   \n",
       "max          NaN  1.543074e+12    4808.000000             NaN     404.000000   \n",
       "\n",
       "                  ts                                          userAgent  \\\n",
       "count   5.280050e+05                                             528005   \n",
       "unique           NaN                                                 71   \n",
       "top              NaN  \"Mozilla/5.0 (Macintosh; Intel Mac OS X 10_9_4...   \n",
       "freq             NaN                                              46082   \n",
       "mean    1.540967e+12                                                NaN   \n",
       "std     1.481233e+09                                                NaN   \n",
       "min     1.538352e+12                                                NaN   \n",
       "25%     1.539723e+12                                                NaN   \n",
       "50%     1.541007e+12                                                NaN   \n",
       "75%     1.542178e+12                                                NaN   \n",
       "max     1.543622e+12                                                NaN   \n",
       "\n",
       "        userId  \n",
       "count   528005  \n",
       "unique     448  \n",
       "top         92  \n",
       "freq      9767  \n",
       "mean       NaN  \n",
       "std        NaN  \n",
       "min        NaN  \n",
       "25%        NaN  \n",
       "50%        NaN  \n",
       "75%        NaN  \n",
       "max        NaN  "
      ]
     },
     "execution_count": 15,
     "metadata": {},
     "output_type": "execute_result"
    }
   ],
   "source": [
    "df2_pandas.describe(include='all')"
   ]
  },
  {
   "cell_type": "markdown",
   "metadata": {},
   "source": [
    "The top song is \"You're the One\" by the artist \"King Of Leon\". This song has been played 3497 times. This song is usually found from the page \"Next Song\". This song is the favorite song for the user with userId=92 and usually played on a Mac computer with the name Joseph Reed.\n",
    "\n",
    "I think this is too revealing."
   ]
  },
  {
   "cell_type": "code",
   "execution_count": 16,
   "metadata": {},
   "outputs": [
    {
     "data": {
      "text/html": [
       "<div>\n",
       "<style scoped>\n",
       "    .dataframe tbody tr th:only-of-type {\n",
       "        vertical-align: middle;\n",
       "    }\n",
       "\n",
       "    .dataframe tbody tr th {\n",
       "        vertical-align: top;\n",
       "    }\n",
       "\n",
       "    .dataframe thead th {\n",
       "        text-align: right;\n",
       "    }\n",
       "</style>\n",
       "<table border=\"1\" class=\"dataframe\">\n",
       "  <thead>\n",
       "    <tr style=\"text-align: right;\">\n",
       "      <th></th>\n",
       "      <th>itemInSession</th>\n",
       "      <th>length</th>\n",
       "      <th>registration</th>\n",
       "      <th>sessionId</th>\n",
       "      <th>status</th>\n",
       "      <th>ts</th>\n",
       "    </tr>\n",
       "  </thead>\n",
       "  <tbody>\n",
       "    <tr>\n",
       "      <th>count</th>\n",
       "      <td>528005.000000</td>\n",
       "      <td>432877.000000</td>\n",
       "      <td>5.280050e+05</td>\n",
       "      <td>528005.000000</td>\n",
       "      <td>528005.000000</td>\n",
       "      <td>5.280050e+05</td>\n",
       "    </tr>\n",
       "    <tr>\n",
       "      <th>mean</th>\n",
       "      <td>107.778995</td>\n",
       "      <td>248.664593</td>\n",
       "      <td>1.535523e+12</td>\n",
       "      <td>2042.980182</td>\n",
       "      <td>209.091062</td>\n",
       "      <td>1.540967e+12</td>\n",
       "    </tr>\n",
       "    <tr>\n",
       "      <th>std</th>\n",
       "      <td>116.864787</td>\n",
       "      <td>98.412670</td>\n",
       "      <td>3.078725e+09</td>\n",
       "      <td>1433.998149</td>\n",
       "      <td>30.148778</td>\n",
       "      <td>1.481233e+09</td>\n",
       "    </tr>\n",
       "    <tr>\n",
       "      <th>min</th>\n",
       "      <td>0.000000</td>\n",
       "      <td>0.783220</td>\n",
       "      <td>1.509854e+12</td>\n",
       "      <td>1.000000</td>\n",
       "      <td>200.000000</td>\n",
       "      <td>1.538352e+12</td>\n",
       "    </tr>\n",
       "    <tr>\n",
       "      <th>25%</th>\n",
       "      <td>27.000000</td>\n",
       "      <td>199.392200</td>\n",
       "      <td>1.534368e+12</td>\n",
       "      <td>632.000000</td>\n",
       "      <td>200.000000</td>\n",
       "      <td>1.539723e+12</td>\n",
       "    </tr>\n",
       "    <tr>\n",
       "      <th>50%</th>\n",
       "      <td>68.000000</td>\n",
       "      <td>234.004440</td>\n",
       "      <td>1.536556e+12</td>\n",
       "      <td>1973.000000</td>\n",
       "      <td>200.000000</td>\n",
       "      <td>1.541007e+12</td>\n",
       "    </tr>\n",
       "    <tr>\n",
       "      <th>75%</th>\n",
       "      <td>148.000000</td>\n",
       "      <td>276.793020</td>\n",
       "      <td>1.537612e+12</td>\n",
       "      <td>3310.000000</td>\n",
       "      <td>200.000000</td>\n",
       "      <td>1.542178e+12</td>\n",
       "    </tr>\n",
       "    <tr>\n",
       "      <th>max</th>\n",
       "      <td>1005.000000</td>\n",
       "      <td>3024.665670</td>\n",
       "      <td>1.543074e+12</td>\n",
       "      <td>4808.000000</td>\n",
       "      <td>404.000000</td>\n",
       "      <td>1.543622e+12</td>\n",
       "    </tr>\n",
       "  </tbody>\n",
       "</table>\n",
       "</div>"
      ],
      "text/plain": [
       "       itemInSession         length  registration      sessionId  \\\n",
       "count  528005.000000  432877.000000  5.280050e+05  528005.000000   \n",
       "mean      107.778995     248.664593  1.535523e+12    2042.980182   \n",
       "std       116.864787      98.412670  3.078725e+09    1433.998149   \n",
       "min         0.000000       0.783220  1.509854e+12       1.000000   \n",
       "25%        27.000000     199.392200  1.534368e+12     632.000000   \n",
       "50%        68.000000     234.004440  1.536556e+12    1973.000000   \n",
       "75%       148.000000     276.793020  1.537612e+12    3310.000000   \n",
       "max      1005.000000    3024.665670  1.543074e+12    4808.000000   \n",
       "\n",
       "              status            ts  \n",
       "count  528005.000000  5.280050e+05  \n",
       "mean      209.091062  1.540967e+12  \n",
       "std        30.148778  1.481233e+09  \n",
       "min       200.000000  1.538352e+12  \n",
       "25%       200.000000  1.539723e+12  \n",
       "50%       200.000000  1.541007e+12  \n",
       "75%       200.000000  1.542178e+12  \n",
       "max       404.000000  1.543622e+12  "
      ]
     },
     "execution_count": 16,
     "metadata": {},
     "output_type": "execute_result"
    }
   ],
   "source": [
    "df2_pandas.describe()"
   ]
  },
  {
   "cell_type": "code",
   "execution_count": 17,
   "metadata": {},
   "outputs": [
    {
     "data": {
      "text/html": [
       "<div>\n",
       "<style scoped>\n",
       "    .dataframe tbody tr th:only-of-type {\n",
       "        vertical-align: middle;\n",
       "    }\n",
       "\n",
       "    .dataframe tbody tr th {\n",
       "        vertical-align: top;\n",
       "    }\n",
       "\n",
       "    .dataframe thead th {\n",
       "        text-align: right;\n",
       "    }\n",
       "</style>\n",
       "<table border=\"1\" class=\"dataframe\">\n",
       "  <thead>\n",
       "    <tr style=\"text-align: right;\">\n",
       "      <th></th>\n",
       "      <th>artist</th>\n",
       "      <th>auth</th>\n",
       "      <th>firstName</th>\n",
       "      <th>gender</th>\n",
       "      <th>itemInSession</th>\n",
       "      <th>lastName</th>\n",
       "      <th>length</th>\n",
       "      <th>level</th>\n",
       "      <th>location</th>\n",
       "      <th>method</th>\n",
       "      <th>page</th>\n",
       "      <th>registration</th>\n",
       "      <th>sessionId</th>\n",
       "      <th>song</th>\n",
       "      <th>status</th>\n",
       "      <th>ts</th>\n",
       "      <th>userAgent</th>\n",
       "      <th>userId</th>\n",
       "    </tr>\n",
       "  </thead>\n",
       "  <tbody>\n",
       "    <tr>\n",
       "      <th>527995</th>\n",
       "      <td>Reel Big Fish</td>\n",
       "      <td>Logged In</td>\n",
       "      <td>Jeremiah</td>\n",
       "      <td>M</td>\n",
       "      <td>30</td>\n",
       "      <td>Jenkins</td>\n",
       "      <td>190.69342</td>\n",
       "      <td>paid</td>\n",
       "      <td>Memphis, TN-MS-AR</td>\n",
       "      <td>PUT</td>\n",
       "      <td>NextSong</td>\n",
       "      <td>1536228638000</td>\n",
       "      <td>916</td>\n",
       "      <td>Ban The Tube Top</td>\n",
       "      <td>200</td>\n",
       "      <td>1543622178000</td>\n",
       "      <td>\"Mozilla/5.0 (Macintosh; Intel Mac OS X 10_9_4...</td>\n",
       "      <td>300039</td>\n",
       "    </tr>\n",
       "    <tr>\n",
       "      <th>527996</th>\n",
       "      <td>Westside Connection</td>\n",
       "      <td>Logged In</td>\n",
       "      <td>Daniel</td>\n",
       "      <td>M</td>\n",
       "      <td>144</td>\n",
       "      <td>Stewart</td>\n",
       "      <td>148.08771</td>\n",
       "      <td>paid</td>\n",
       "      <td>Fresno, CA</td>\n",
       "      <td>PUT</td>\n",
       "      <td>NextSong</td>\n",
       "      <td>1537523064000</td>\n",
       "      <td>991</td>\n",
       "      <td>Terrorist Threats (Edited)</td>\n",
       "      <td>200</td>\n",
       "      <td>1543622184000</td>\n",
       "      <td>\"Mozilla/5.0 (Windows NT 6.1; WOW64) AppleWebK...</td>\n",
       "      <td>300049</td>\n",
       "    </tr>\n",
       "    <tr>\n",
       "      <th>527997</th>\n",
       "      <td>Cracker</td>\n",
       "      <td>Logged In</td>\n",
       "      <td>Aiden</td>\n",
       "      <td>M</td>\n",
       "      <td>34</td>\n",
       "      <td>Reed</td>\n",
       "      <td>205.03465</td>\n",
       "      <td>paid</td>\n",
       "      <td>Lakeland-Winter Haven, FL</td>\n",
       "      <td>PUT</td>\n",
       "      <td>NextSong</td>\n",
       "      <td>1535616235000</td>\n",
       "      <td>966</td>\n",
       "      <td>I'm A Little Rocket Ship</td>\n",
       "      <td>200</td>\n",
       "      <td>1543622187000</td>\n",
       "      <td>\"Mozilla/5.0 (iPhone; CPU iPhone OS 7_1_2 like...</td>\n",
       "      <td>300038</td>\n",
       "    </tr>\n",
       "    <tr>\n",
       "      <th>527998</th>\n",
       "      <td>None</td>\n",
       "      <td>Logged In</td>\n",
       "      <td>Aiden</td>\n",
       "      <td>M</td>\n",
       "      <td>35</td>\n",
       "      <td>Reed</td>\n",
       "      <td>NaN</td>\n",
       "      <td>paid</td>\n",
       "      <td>Lakeland-Winter Haven, FL</td>\n",
       "      <td>GET</td>\n",
       "      <td>Home</td>\n",
       "      <td>1535616235000</td>\n",
       "      <td>966</td>\n",
       "      <td>None</td>\n",
       "      <td>200</td>\n",
       "      <td>1543622227000</td>\n",
       "      <td>\"Mozilla/5.0 (iPhone; CPU iPhone OS 7_1_2 like...</td>\n",
       "      <td>300038</td>\n",
       "    </tr>\n",
       "    <tr>\n",
       "      <th>527999</th>\n",
       "      <td>The Morning Benders</td>\n",
       "      <td>Logged In</td>\n",
       "      <td>Joshua</td>\n",
       "      <td>M</td>\n",
       "      <td>108</td>\n",
       "      <td>White</td>\n",
       "      <td>104.12363</td>\n",
       "      <td>paid</td>\n",
       "      <td>San Antonio-New Braunfels, TX</td>\n",
       "      <td>PUT</td>\n",
       "      <td>NextSong</td>\n",
       "      <td>1528780738000</td>\n",
       "      <td>981</td>\n",
       "      <td>Cold War</td>\n",
       "      <td>200</td>\n",
       "      <td>1543622297000</td>\n",
       "      <td>\"Mozilla/5.0 (iPhone; CPU iPhone OS 7_1_2 like...</td>\n",
       "      <td>300015</td>\n",
       "    </tr>\n",
       "    <tr>\n",
       "      <th>528000</th>\n",
       "      <td>Oliver Onions</td>\n",
       "      <td>Logged In</td>\n",
       "      <td>Clayton</td>\n",
       "      <td>M</td>\n",
       "      <td>165</td>\n",
       "      <td>Jackson</td>\n",
       "      <td>183.50975</td>\n",
       "      <td>paid</td>\n",
       "      <td>Dallas-Fort Worth-Arlington, TX</td>\n",
       "      <td>PUT</td>\n",
       "      <td>NextSong</td>\n",
       "      <td>1536850071000</td>\n",
       "      <td>882</td>\n",
       "      <td>Dune Buggy</td>\n",
       "      <td>200</td>\n",
       "      <td>1543622316000</td>\n",
       "      <td>\"Mozilla/5.0 (Macintosh; Intel Mac OS X 10_9_4...</td>\n",
       "      <td>300010</td>\n",
       "    </tr>\n",
       "    <tr>\n",
       "      <th>528001</th>\n",
       "      <td>Sheena Easton</td>\n",
       "      <td>Logged In</td>\n",
       "      <td>Daniel</td>\n",
       "      <td>M</td>\n",
       "      <td>145</td>\n",
       "      <td>Stewart</td>\n",
       "      <td>239.62077</td>\n",
       "      <td>paid</td>\n",
       "      <td>Fresno, CA</td>\n",
       "      <td>PUT</td>\n",
       "      <td>NextSong</td>\n",
       "      <td>1537523064000</td>\n",
       "      <td>991</td>\n",
       "      <td>Strut (1993 Digital Remaster)</td>\n",
       "      <td>200</td>\n",
       "      <td>1543622332000</td>\n",
       "      <td>\"Mozilla/5.0 (Windows NT 6.1; WOW64) AppleWebK...</td>\n",
       "      <td>300049</td>\n",
       "    </tr>\n",
       "    <tr>\n",
       "      <th>528002</th>\n",
       "      <td>The White Stripes</td>\n",
       "      <td>Logged In</td>\n",
       "      <td>Jeremiah</td>\n",
       "      <td>M</td>\n",
       "      <td>31</td>\n",
       "      <td>Jenkins</td>\n",
       "      <td>234.97098</td>\n",
       "      <td>paid</td>\n",
       "      <td>Memphis, TN-MS-AR</td>\n",
       "      <td>PUT</td>\n",
       "      <td>NextSong</td>\n",
       "      <td>1536228638000</td>\n",
       "      <td>916</td>\n",
       "      <td>Jolene [Live]</td>\n",
       "      <td>200</td>\n",
       "      <td>1543622368000</td>\n",
       "      <td>\"Mozilla/5.0 (Macintosh; Intel Mac OS X 10_9_4...</td>\n",
       "      <td>300039</td>\n",
       "    </tr>\n",
       "    <tr>\n",
       "      <th>528003</th>\n",
       "      <td>Hinder</td>\n",
       "      <td>Logged In</td>\n",
       "      <td>Aiden</td>\n",
       "      <td>M</td>\n",
       "      <td>36</td>\n",
       "      <td>Reed</td>\n",
       "      <td>262.05995</td>\n",
       "      <td>paid</td>\n",
       "      <td>Lakeland-Winter Haven, FL</td>\n",
       "      <td>PUT</td>\n",
       "      <td>NextSong</td>\n",
       "      <td>1535616235000</td>\n",
       "      <td>966</td>\n",
       "      <td>Lips Of An Angel</td>\n",
       "      <td>200</td>\n",
       "      <td>1543622392000</td>\n",
       "      <td>\"Mozilla/5.0 (iPhone; CPU iPhone OS 7_1_2 like...</td>\n",
       "      <td>300038</td>\n",
       "    </tr>\n",
       "    <tr>\n",
       "      <th>528004</th>\n",
       "      <td>Jack Johnson</td>\n",
       "      <td>Logged In</td>\n",
       "      <td>Joshua</td>\n",
       "      <td>M</td>\n",
       "      <td>109</td>\n",
       "      <td>White</td>\n",
       "      <td>144.06485</td>\n",
       "      <td>paid</td>\n",
       "      <td>San Antonio-New Braunfels, TX</td>\n",
       "      <td>PUT</td>\n",
       "      <td>NextSong</td>\n",
       "      <td>1528780738000</td>\n",
       "      <td>981</td>\n",
       "      <td>Do You Remember</td>\n",
       "      <td>200</td>\n",
       "      <td>1543622401000</td>\n",
       "      <td>\"Mozilla/5.0 (iPhone; CPU iPhone OS 7_1_2 like...</td>\n",
       "      <td>300015</td>\n",
       "    </tr>\n",
       "  </tbody>\n",
       "</table>\n",
       "</div>"
      ],
      "text/plain": [
       "                     artist       auth firstName gender  itemInSession  \\\n",
       "527995        Reel Big Fish  Logged In  Jeremiah      M             30   \n",
       "527996  Westside Connection  Logged In    Daniel      M            144   \n",
       "527997              Cracker  Logged In     Aiden      M             34   \n",
       "527998                 None  Logged In     Aiden      M             35   \n",
       "527999  The Morning Benders  Logged In    Joshua      M            108   \n",
       "528000        Oliver Onions  Logged In   Clayton      M            165   \n",
       "528001        Sheena Easton  Logged In    Daniel      M            145   \n",
       "528002    The White Stripes  Logged In  Jeremiah      M             31   \n",
       "528003               Hinder  Logged In     Aiden      M             36   \n",
       "528004         Jack Johnson  Logged In    Joshua      M            109   \n",
       "\n",
       "       lastName     length level                         location method  \\\n",
       "527995  Jenkins  190.69342  paid                Memphis, TN-MS-AR    PUT   \n",
       "527996  Stewart  148.08771  paid                       Fresno, CA    PUT   \n",
       "527997     Reed  205.03465  paid        Lakeland-Winter Haven, FL    PUT   \n",
       "527998     Reed        NaN  paid        Lakeland-Winter Haven, FL    GET   \n",
       "527999    White  104.12363  paid    San Antonio-New Braunfels, TX    PUT   \n",
       "528000  Jackson  183.50975  paid  Dallas-Fort Worth-Arlington, TX    PUT   \n",
       "528001  Stewart  239.62077  paid                       Fresno, CA    PUT   \n",
       "528002  Jenkins  234.97098  paid                Memphis, TN-MS-AR    PUT   \n",
       "528003     Reed  262.05995  paid        Lakeland-Winter Haven, FL    PUT   \n",
       "528004    White  144.06485  paid    San Antonio-New Braunfels, TX    PUT   \n",
       "\n",
       "            page   registration  sessionId                           song  \\\n",
       "527995  NextSong  1536228638000        916               Ban The Tube Top   \n",
       "527996  NextSong  1537523064000        991     Terrorist Threats (Edited)   \n",
       "527997  NextSong  1535616235000        966       I'm A Little Rocket Ship   \n",
       "527998      Home  1535616235000        966                           None   \n",
       "527999  NextSong  1528780738000        981                       Cold War   \n",
       "528000  NextSong  1536850071000        882                     Dune Buggy   \n",
       "528001  NextSong  1537523064000        991  Strut (1993 Digital Remaster)   \n",
       "528002  NextSong  1536228638000        916                  Jolene [Live]   \n",
       "528003  NextSong  1535616235000        966               Lips Of An Angel   \n",
       "528004  NextSong  1528780738000        981                Do You Remember   \n",
       "\n",
       "        status             ts  \\\n",
       "527995     200  1543622178000   \n",
       "527996     200  1543622184000   \n",
       "527997     200  1543622187000   \n",
       "527998     200  1543622227000   \n",
       "527999     200  1543622297000   \n",
       "528000     200  1543622316000   \n",
       "528001     200  1543622332000   \n",
       "528002     200  1543622368000   \n",
       "528003     200  1543622392000   \n",
       "528004     200  1543622401000   \n",
       "\n",
       "                                                userAgent  userId  \n",
       "527995  \"Mozilla/5.0 (Macintosh; Intel Mac OS X 10_9_4...  300039  \n",
       "527996  \"Mozilla/5.0 (Windows NT 6.1; WOW64) AppleWebK...  300049  \n",
       "527997  \"Mozilla/5.0 (iPhone; CPU iPhone OS 7_1_2 like...  300038  \n",
       "527998  \"Mozilla/5.0 (iPhone; CPU iPhone OS 7_1_2 like...  300038  \n",
       "527999  \"Mozilla/5.0 (iPhone; CPU iPhone OS 7_1_2 like...  300015  \n",
       "528000  \"Mozilla/5.0 (Macintosh; Intel Mac OS X 10_9_4...  300010  \n",
       "528001  \"Mozilla/5.0 (Windows NT 6.1; WOW64) AppleWebK...  300049  \n",
       "528002  \"Mozilla/5.0 (Macintosh; Intel Mac OS X 10_9_4...  300039  \n",
       "528003  \"Mozilla/5.0 (iPhone; CPU iPhone OS 7_1_2 like...  300038  \n",
       "528004  \"Mozilla/5.0 (iPhone; CPU iPhone OS 7_1_2 like...  300015  "
      ]
     },
     "execution_count": 17,
     "metadata": {},
     "output_type": "execute_result"
    }
   ],
   "source": [
    "df2_pandas.tail(10)"
   ]
  },
  {
   "cell_type": "code",
   "execution_count": 18,
   "metadata": {
    "scrolled": true
   },
   "outputs": [
    {
     "name": "stdout",
     "output_type": "stream",
     "text": [
      "+---------+------+\n",
      "|     auth| count|\n",
      "+---------+------+\n",
      "|Cancelled|    99|\n",
      "|Logged In|527906|\n",
      "+---------+------+\n",
      "\n"
     ]
    }
   ],
   "source": [
    "#What's the distribution of users' auth ()\n",
    "df2.groupBy(\"auth\").count().orderBy(\"auth\").show()\n"
   ]
  },
  {
   "cell_type": "code",
   "execution_count": 19,
   "metadata": {},
   "outputs": [
    {
     "name": "stdout",
     "output_type": "stream",
     "text": [
      "+------+------+\n",
      "|gender| count|\n",
      "+------+------+\n",
      "|     F|225393|\n",
      "|     M|302612|\n",
      "+------+------+\n",
      "\n"
     ]
    }
   ],
   "source": [
    "#What's the users' gender distribution \n",
    "df2.groupBy(\"gender\").count().orderBy(\"gender\").show()"
   ]
  },
  {
   "cell_type": "code",
   "execution_count": 20,
   "metadata": {
    "scrolled": true
   },
   "outputs": [
    {
     "name": "stdout",
     "output_type": "stream",
     "text": [
      "+-----+------+\n",
      "|level| count|\n",
      "+-----+------+\n",
      "| free|109961|\n",
      "| paid|418044|\n",
      "+-----+------+\n",
      "\n"
     ]
    }
   ],
   "source": [
    "#How many users are using the Free version or Paid Subscription\n",
    "df2.groupBy(\"level\").count().orderBy(\"level\").show()"
   ]
  },
  {
   "cell_type": "markdown",
   "metadata": {},
   "source": [
    "### Feature Engineering\n",
    "Once you've familiarized yourself with the data, build out the features you find promising to train your model on. To work with the full dataset, you can follow the following steps.\n",
    "\n",
    "1. Write a script to extract the necessary features from the smaller subset of data\n",
    "2. Ensure that your script is scalable, using the best practices discussed in Lesson 3\n",
    "3. Try your script on the full data set, debugging your script if necessary\n",
    "\n",
    "If you are working in the classroom workspace, you can just extract features based on the small subset of data contained here. Be sure to transfer over this work to the larger dataset when you work on your Spark cluster."
   ]
  },
  {
   "cell_type": "markdown",
   "metadata": {},
   "source": [
    "#### Determine Churn Rate\n"
   ]
  },
  {
   "cell_type": "markdown",
   "metadata": {},
   "source": [
    "#### Which Users Downgraded their account? "
   ]
  },
  {
   "cell_type": "code",
   "execution_count": 21,
   "metadata": {},
   "outputs": [],
   "source": [
    "# downgrade label\n",
    "flag_downgrade_event = udf(lambda x: 1 if x == \"Submit Downgrade\" else 0, IntegerType())\n",
    "df2 = df2.withColumn(\"downgrade_event\", flag_downgrade_event(\"page\"))\n",
    "\n",
    "# Create label for users who downgraded\n",
    "windowval = Window.partitionBy('userId')\n",
    "df2 = df2.withColumn('downgrade', max('downgrade_event').over(windowval))"
   ]
  },
  {
   "cell_type": "markdown",
   "metadata": {},
   "source": [
    "#### Which Users Cancelled their Subscriptions?\n"
   ]
  },
  {
   "cell_type": "code",
   "execution_count": null,
   "metadata": {},
   "outputs": [],
   "source": [
    "# create churn label\n",
    "flag_churn_event = udf(lambda x: 1 if x == 'Cancellation Confirmation' else 0, IntegerType())\n",
    "df2 = df2.withColumn('churn_event', flag_churn_event('page'))\n",
    "\n",
    "## Create label for users who cancelled or churned\n",
    "windowval = Window.partitionBy('userId')\n",
    "df2 = df2.withColumn('churn', max('churn_event').over(windowval))"
   ]
  },
  {
   "cell_type": "code",
   "execution_count": null,
   "metadata": {},
   "outputs": [
    {
     "name": "stdout",
     "output_type": "stream",
     "text": [
      "+------+-----+---------+\n",
      "|userId|churn|downgrade|\n",
      "+------+-----+---------+\n",
      "|100010|    1|        0|\n",
      "|200002|    1|        0|\n",
      "|   296|    1|        0|\n",
      "|   125|    0|        0|\n",
      "|   124|    1|        0|\n",
      "|    51|    1|        0|\n",
      "|     7|    0|        0|\n",
      "|200037|    1|        0|\n",
      "|   169|    0|        0|\n",
      "|   205|    0|        0|\n",
      "|   272|    0|        0|\n",
      "|    15|    0|        0|\n",
      "|   232|    0|        1|\n",
      "|   234|    1|        0|\n",
      "|   282|    0|        0|\n",
      "|    54|    1|        0|\n",
      "|   155|    0|        0|\n",
      "|200043|    0|        0|\n",
      "|100014|    1|        0|\n",
      "|   132|    1|        0|\n",
      "+------+-----+---------+\n",
      "only showing top 20 rows\n",
      "\n"
     ]
    }
   ],
   "source": [
    "df2.select(['userId', 'churn', 'downgrade']).dropDuplicates().show()"
   ]
  },
  {
   "cell_type": "markdown",
   "metadata": {},
   "source": [
    "#### Calculate Statistics by Hour"
   ]
  },
  {
   "cell_type": "code",
   "execution_count": null,
   "metadata": {},
   "outputs": [],
   "source": [
    "get_hour = udf(lambda x: datetime.datetime.fromtimestamp(x / 1000.0).hour)"
   ]
  },
  {
   "cell_type": "code",
   "execution_count": null,
   "metadata": {},
   "outputs": [
    {
     "data": {
      "text/plain": [
       "Row(artist='Darude', auth='Logged In', firstName='Darianna', gender='F', itemInSession=0, lastName='Carpenter', length=226.08934, level='free', location='Bridgeport-Stamford-Norwalk, CT', method='PUT', page='NextSong', registration=1538016340000, sessionId=62, song='Sandstorm', status=200, ts=1538991392000, userAgent='\"Mozilla/5.0 (iPhone; CPU iPhone OS 7_1_2 like Mac OS X) AppleWebKit/537.51.2 (KHTML, like Gecko) Version/7.0 Mobile/11D257 Safari/9537.53\"', userId='100010', downgrade_event=0, downgrade=0, churn_event=0, churn=1, hour='9')"
      ]
     },
     "execution_count": 25,
     "metadata": {},
     "output_type": "execute_result"
    }
   ],
   "source": [
    "df2 = df2.withColumn(\"hour\", get_hour(df2.ts))\n",
    "df2.head()"
   ]
  },
  {
   "cell_type": "code",
   "execution_count": null,
   "metadata": {},
   "outputs": [],
   "source": [
    "songs_in_hour = df2.filter(df2.page == \"NextSong\").groupby(df2.hour).count().orderBy(df2.hour)"
   ]
  },
  {
   "cell_type": "code",
   "execution_count": null,
   "metadata": {},
   "outputs": [
    {
     "name": "stdout",
     "output_type": "stream",
     "text": [
      "+----+-----+\n",
      "|hour|count|\n",
      "+----+-----+\n",
      "|   0|17555|\n",
      "|   1|17038|\n",
      "|  10|15476|\n",
      "|  11|16290|\n",
      "|  12|17230|\n",
      "|  13|17995|\n",
      "|  14|19978|\n",
      "|  15|21953|\n",
      "|  16|22542|\n",
      "|  17|22500|\n",
      "|  18|22223|\n",
      "|  19|21296|\n",
      "|   2|16265|\n",
      "|  20|20336|\n",
      "|  21|19850|\n",
      "|  22|19191|\n",
      "|  23|18327|\n",
      "|   3|15581|\n",
      "|   4|15430|\n",
      "|   5|15203|\n",
      "+----+-----+\n",
      "only showing top 20 rows\n",
      "\n"
     ]
    }
   ],
   "source": [
    "songs_in_hour.show()"
   ]
  },
  {
   "cell_type": "code",
   "execution_count": null,
   "metadata": {},
   "outputs": [],
   "source": [
    "songs_in_hour_pd = songs_in_hour.toPandas()\n",
    "songs_in_hour_pd.hour = pd.to_numeric(songs_in_hour_pd.hour)"
   ]
  },
  {
   "cell_type": "code",
   "execution_count": null,
   "metadata": {},
   "outputs": [
    {
     "data": {
      "image/png": "[encoded data removed]",
      "text/plain": [
       "<Figure size 432x288 with 1 Axes>"
      ]
     },
     "metadata": {},
     "output_type": "display_data"
    }
   ],
   "source": [
    "sb.set()\n",
    "plt.scatter(songs_in_hour_pd[\"hour\"], songs_in_hour_pd[\"count\"], s=120, c='red')\n",
    "plt.xlabel(\"Hour\")\n",
    "plt.ylabel(\"Songs Played\");"
   ]
  },
  {
   "cell_type": "code",
   "execution_count": null,
   "metadata": {},
   "outputs": [],
   "source": []
  },
  {
   "cell_type": "markdown",
   "metadata": {},
   "source": [
    "#### Churn Rate by gender"
   ]
  },
  {
   "cell_type": "code",
   "execution_count": null,
   "metadata": {},
   "outputs": [
    {
     "data": {
      "text/plain": [
       "<matplotlib.axes._subplots.AxesSubplot at 0x7f4bfecc2d30>"
      ]
     },
     "execution_count": 30,
     "metadata": {},
     "output_type": "execute_result"
    },
    {
     "data": {
      "image/png": "[encoded data removed]",
      "text/plain": [
       "<Figure size 432x288 with 1 Axes>"
      ]
     },
     "metadata": {},
     "output_type": "display_data"
    }
   ],
   "source": [
    "churn_by_gender = df2.dropDuplicates([\"userId\", \"gender\"]).groupby([\"churn\", \"gender\"]).count().sort(\"churn\").toPandas()\n",
    "sb.barplot(x='churn', y='count', hue='gender', data=churn_by_gender)"
   ]
  },
  {
   "cell_type": "markdown",
   "metadata": {},
   "source": [
    "**At what level were the users before they churned?**"
   ]
  },
  {
   "cell_type": "code",
   "execution_count": null,
   "metadata": {},
   "outputs": [
    {
     "data": {
      "text/plain": [
       "<matplotlib.axes._subplots.AxesSubplot at 0x7f4bf96cd5f8>"
      ]
     },
     "execution_count": 31,
     "metadata": {},
     "output_type": "execute_result"
    },
    {
     "data": {
      "image/png": "[encoded data removed]",
      "text/plain": [
       "<Figure size 432x288 with 1 Axes>"
      ]
     },
     "metadata": {},
     "output_type": "display_data"
    }
   ],
   "source": [
    "df_churnlevel = df2.filter(df2.page==\"Cancellation Confirmation\").groupby(\"level\").count().toPandas()\n",
    "sb.barplot(x=\"level\", y=\"count\", data=df_churnlevel)"
   ]
  },
  {
   "cell_type": "markdown",
   "metadata": {},
   "source": [
    "#### Create Features from the Churned Customers/Users"
   ]
  },
  {
   "cell_type": "markdown",
   "metadata": {},
   "source": [
    "For predicting the churn rate, we have to look at different features and user behaviors by extracting the features below.\n",
    "\n",
    "1. total_songs: Total songs a user listened to: Is the user actively engaged?\n",
    "2. adverts: Total number of adverts served to a user: What type of Ads the user has seen while using the app?\n",
    "3. songs_persession: Number of songs a user listens to time per session: Each time a user logs in, how many songs do they listen to before logging out? This will be a good indication if they like the platform.\n",
    "4. num_thumbsup: How many songs did they give a thumbs-up)\n",
    "5. num_thumbsdown: How many songs did the user dislike by giving a thumbs down\n",
    "6. num_playlist: Number of songs a user added to their playlist\n",
    "7. friends_added: How many friends each user added. Can there be peer pressure from friends influencing user decisions?\n",
    "8. gender: What's the gender distribution and how does this affect user behaviour? The behaviour of the female users may be different from that of the male users as seen from the exploratory analysis of the gender\n",
    "9. level: Which users are on the free version or paid subscription.\n",
    "10. errors: How many errors have the user experienced since signing up on the app?\n",
    "\n",
    "**Label**\n",
    "11. churn: convert the churn column to a label.\n",
    "\n",
    "**Merge all features and labels**"
   ]
  },
  {
   "cell_type": "markdown",
   "metadata": {},
   "source": [
    "**F1: Total songs a user listened to**"
   ]
  },
  {
   "cell_type": "code",
   "execution_count": null,
   "metadata": {
    "scrolled": true
   },
   "outputs": [
    {
     "name": "stdout",
     "output_type": "stream",
     "text": [
      "+-------+------------------+------------------+\n",
      "|summary|            userId|       total_songs|\n",
      "+-------+------------------+------------------+\n",
      "|  count|               448|               448|\n",
      "|   mean| 67520.34821428571|1178.5825892857142|\n",
      "| stddev|105964.58428485188|1380.6279647524048|\n",
      "|    min|                10|                 3|\n",
      "|    max|                99|              9767|\n",
      "+-------+------------------+------------------+\n",
      "\n"
     ]
    }
   ],
   "source": [
    "f1 = df2 \\\n",
    "    .select('userId','song') \\\n",
    "    .groupBy('userId') \\\n",
    "    .count() \\\n",
    "    .withColumnRenamed('count', 'total_songs')\n",
    "f1.describe().show()"
   ]
  },
  {
   "cell_type": "markdown",
   "metadata": {},
   "source": [
    "**F2:Total number of adverts served to a user**"
   ]
  },
  {
   "cell_type": "code",
   "execution_count": null,
   "metadata": {
    "scrolled": true
   },
   "outputs": [
    {
     "name": "stdout",
     "output_type": "stream",
     "text": [
      "+-------+------------------+------------------+\n",
      "|summary|            userId|           adverts|\n",
      "+-------+------------------+------------------+\n",
      "|  count|               395|               395|\n",
      "|   mean| 64918.06329113924|19.678481012658228|\n",
      "| stddev|102712.13991323955| 21.76408856318852|\n",
      "|    min|               100|                 1|\n",
      "|    max|                99|               187|\n",
      "+-------+------------------+------------------+\n",
      "\n"
     ]
    }
   ],
   "source": [
    "f2 = df2 \\\n",
    "    .select('userId', 'page') \\\n",
    "    .where(df2.page == 'Roll Advert') \\\n",
    "    .groupBy('userId') \\\n",
    "    .count() \\\n",
    "    .withColumnRenamed('count', 'adverts')\n",
    "    \n",
    "f2.describe().show()\n"
   ]
  },
  {
   "cell_type": "markdown",
   "metadata": {},
   "source": [
    "**F3: Number of songs a user listens to per session**"
   ]
  },
  {
   "cell_type": "code",
   "execution_count": null,
   "metadata": {
    "scrolled": true
   },
   "outputs": [
    {
     "name": "stdout",
     "output_type": "stream",
     "text": [
      "+------+------------------+\n",
      "|userId|  songs_persession|\n",
      "+------+------------------+\n",
      "|   296|              22.4|\n",
      "|100010|              48.0|\n",
      "|200002|              62.0|\n",
      "|   125|20.666666666666668|\n",
      "|     7|              30.8|\n",
      "|   124|           114.125|\n",
      "|    51|              53.2|\n",
      "|200037|17.428571428571427|\n",
      "|   169|              14.0|\n",
      "|   205|             209.6|\n",
      "|   272|              48.5|\n",
      "|   282| 93.89285714285714|\n",
      "|    15|101.94444444444444|\n",
      "|   234| 72.78260869565217|\n",
      "|   232| 81.56521739130434|\n",
      "|    54|            64.625|\n",
      "|200043|             51.25|\n",
      "|   155|              35.0|\n",
      "|100014|              83.0|\n",
      "|   154|             23.25|\n",
      "+------+------------------+\n",
      "only showing top 20 rows\n",
      "\n"
     ]
    }
   ],
   "source": [
    "f3 = df2 \\\n",
    "    .where('page == \"NextSong\"') \\\n",
    "    .groupby(['userId', 'sessionId']) \\\n",
    "    .count() \\\n",
    "    .groupby(['userId']) \\\n",
    "    .agg({'count':'avg'}) \\\n",
    "    .withColumnRenamed('avg(count)', 'songs_persession')\n",
    "\n",
    "f3.show()\n"
   ]
  },
  {
   "cell_type": "markdown",
   "metadata": {},
   "source": [
    "**F4: How many songs did a user like? (Thumbs Up)**"
   ]
  },
  {
   "cell_type": "code",
   "execution_count": null,
   "metadata": {
    "scrolled": true
   },
   "outputs": [
    {
     "name": "stdout",
     "output_type": "stream",
     "text": [
      "+-------+------------------+-----------------+\n",
      "|summary|            userId|     num_thumbsup|\n",
      "+-------+------------------+-----------------+\n",
      "|  count|               439|              439|\n",
      "|   mean| 67308.81548974942|54.27334851936219|\n",
      "| stddev|106228.80408254794|69.94135178778984|\n",
      "|    min|                10|                1|\n",
      "|    max|                99|              506|\n",
      "+-------+------------------+-----------------+\n",
      "\n"
     ]
    }
   ],
   "source": [
    "f4 = df2 \\\n",
    "    .select('userId','page') \\\n",
    "    .where(df2.page == 'Thumbs Up') \\\n",
    "    .groupBy('userId') \\\n",
    "    .count() \\\n",
    "    .withColumnRenamed('count', 'num_thumbsup') \n",
    "\n",
    "f4.describe().show()\n",
    "    \n"
   ]
  },
  {
   "cell_type": "markdown",
   "metadata": {},
   "source": [
    "**F5: How many songs did the user dislike by giving a thumbs down**"
   ]
  },
  {
   "cell_type": "code",
   "execution_count": null,
   "metadata": {
    "scrolled": true
   },
   "outputs": [
    {
     "name": "stdout",
     "output_type": "stream",
     "text": [
      "+-------+------------------+------------------+\n",
      "|summary|            userId|    num_thumbsdown|\n",
      "+-------+------------------+------------------+\n",
      "|  count|               389|               389|\n",
      "|   mean| 70031.19537275065|12.624678663239074|\n",
      "| stddev|106895.73735311364|13.582432851937993|\n",
      "|    min|                10|                 1|\n",
      "|    max|                99|                80|\n",
      "+-------+------------------+------------------+\n",
      "\n"
     ]
    }
   ],
   "source": [
    "f5 = df2 \\\n",
    "    .select('userId','page') \\\n",
    "    .where(df2.page == 'Thumbs Down') \\\n",
    "    .groupBy('userId') \\\n",
    "    .count() \\\n",
    "    .withColumnRenamed('count', 'num_thumbsdown')\n",
    "\n",
    "f5.describe().show()"
   ]
  },
  {
   "cell_type": "markdown",
   "metadata": {},
   "source": [
    "**F6: Number of songs added to playlist**"
   ]
  },
  {
   "cell_type": "code",
   "execution_count": null,
   "metadata": {
    "scrolled": true
   },
   "outputs": [
    {
     "name": "stdout",
     "output_type": "stream",
     "text": [
      "+------+------------+\n",
      "|userId|num_playlist|\n",
      "+------+------------+\n",
      "|   296|           3|\n",
      "|100010|           1|\n",
      "|200002|           6|\n",
      "|   125|           2|\n",
      "|    51|           8|\n",
      "|   124|          45|\n",
      "|     7|           6|\n",
      "|200037|           4|\n",
      "|   205|          25|\n",
      "|   272|           3|\n",
      "|   282|          66|\n",
      "|   232|          61|\n",
      "|    15|          57|\n",
      "|   234|          51|\n",
      "|    54|          15|\n",
      "|200043|          23|\n",
      "|   155|           4|\n",
      "|   154|           4|\n",
      "|   132|           4|\n",
      "|100014|          11|\n",
      "+------+------------+\n",
      "only showing top 20 rows\n",
      "\n"
     ]
    }
   ],
   "source": [
    "f6 = df2 \\\n",
    "    .select('userId','page') \\\n",
    "    .where(df2.page == 'Add to Playlist') \\\n",
    "    .groupBy('userId') \\\n",
    "    .count() \\\n",
    "    .withColumnRenamed('count', 'num_playlist')\n",
    "\n",
    "f6.show()"
   ]
  },
  {
   "cell_type": "markdown",
   "metadata": {},
   "source": [
    "**F7: Number of friends User Added**"
   ]
  },
  {
   "cell_type": "code",
   "execution_count": null,
   "metadata": {
    "scrolled": false
   },
   "outputs": [
    {
     "name": "stdout",
     "output_type": "stream",
     "text": [
      "+------+-------------+\n",
      "|userId|friends_added|\n",
      "+------+-------------+\n",
      "|   296|            2|\n",
      "|100010|            3|\n",
      "|200002|            2|\n",
      "|   125|            3|\n",
      "|   124|           26|\n",
      "|     7|           16|\n",
      "|    51|            3|\n",
      "|200037|            2|\n",
      "|   205|           21|\n",
      "|   169|            6|\n",
      "|    54|           20|\n",
      "|   282|           79|\n",
      "|   234|           17|\n",
      "|   232|           43|\n",
      "|    15|           32|\n",
      "|200043|           12|\n",
      "|100014|            3|\n",
      "|   154|            4|\n",
      "|   132|            4|\n",
      "|300027|            4|\n",
      "+------+-------------+\n",
      "only showing top 20 rows\n",
      "\n"
     ]
    }
   ],
   "source": [
    "f7 = df2 \\\n",
    "    .select('userId','page') \\\n",
    "    .where(df2.page == 'Add Friend') \\\n",
    "    .groupBy('userId') \\\n",
    "    .count() \\\n",
    "    .withColumnRenamed('count', 'friends_added') \n",
    "\n",
    "f7.show()"
   ]
  },
  {
   "cell_type": "markdown",
   "metadata": {},
   "source": [
    "**F8: Gender distribution**"
   ]
  },
  {
   "cell_type": "code",
   "execution_count": null,
   "metadata": {
    "scrolled": false
   },
   "outputs": [
    {
     "name": "stdout",
     "output_type": "stream",
     "text": [
      "+-------+------------------+------------------+\n",
      "|summary|            userId|            gender|\n",
      "+-------+------------------+------------------+\n",
      "|  count|               448|               448|\n",
      "|   mean| 67520.34821428571|0.4419642857142857|\n",
      "| stddev|105964.58428485185|0.4971756279079041|\n",
      "|    min|                10|                 0|\n",
      "|    max|                99|                 1|\n",
      "+-------+------------------+------------------+\n",
      "\n",
      "+------+------+\n",
      "|userId|gender|\n",
      "+------+------+\n",
      "|   188|     1|\n",
      "|   234|     0|\n",
      "|    44|     1|\n",
      "|   273|     0|\n",
      "|    46|     1|\n",
      "|   220|     1|\n",
      "|    41|     1|\n",
      "|   186|     0|\n",
      "|   254|     0|\n",
      "|   280|     0|\n",
      "|100035|     1|\n",
      "|   294|     1|\n",
      "|    72|     1|\n",
      "|300023|     1|\n",
      "|100010|     1|\n",
      "|    39|     1|\n",
      "|   287|     0|\n",
      "|   210|     1|\n",
      "|200026|     0|\n",
      "|   207|     0|\n",
      "+------+------+\n",
      "only showing top 20 rows\n",
      "\n"
     ]
    }
   ],
   "source": [
    "# Gender\n",
    "f8 = df2 \\\n",
    "    .select(\"userId\", \"gender\") \\\n",
    "    .dropDuplicates() \\\n",
    "    .replace(['M', 'F'], ['0', '1'], 'gender') \\\n",
    "    .select('userId', col('gender').cast('int'))\n",
    "f8.describe().show(5)\n",
    "f8.show()"
   ]
  },
  {
   "cell_type": "markdown",
   "metadata": {},
   "source": [
    "#### F9: Level: Which users are on the free version or paid subscription"
   ]
  },
  {
   "cell_type": "code",
   "execution_count": null,
   "metadata": {},
   "outputs": [
    {
     "name": "stdout",
     "output_type": "stream",
     "text": [
      "+------+-----+\n",
      "|userId|level|\n",
      "+------+-----+\n",
      "|100021|    0|\n",
      "|100029|    0|\n",
      "|    94|    1|\n",
      "|    18|    0|\n",
      "|200050|    1|\n",
      "|200021|    0|\n",
      "|   185|    0|\n",
      "|   241|    1|\n",
      "|200001|    0|\n",
      "|   227|    0|\n",
      "|   289|    1|\n",
      "|300022|    1|\n",
      "|   207|    0|\n",
      "|     6|    0|\n",
      "|   190|    1|\n",
      "|   132|    0|\n",
      "|   112|    0|\n",
      "|   168|    1|\n",
      "|100035|    1|\n",
      "|   165|    0|\n",
      "+------+-----+\n",
      "only showing top 20 rows\n",
      "\n"
     ]
    }
   ],
   "source": [
    "f9 = df2 \\\n",
    "    .select('userId', 'level') \\\n",
    "    .dropDuplicates() \\\n",
    "    .replace(['free', 'paid'], ['0', '1'], 'level') \\\n",
    "    .select('userId', col('level').cast('int'))\n",
    "\n",
    "f9.show()"
   ]
  },
  {
   "cell_type": "markdown",
   "metadata": {},
   "source": [
    "#### F10: Number of Errors: How many errors have the user experienced since signing up on the app"
   ]
  },
  {
   "cell_type": "code",
   "execution_count": null,
   "metadata": {},
   "outputs": [],
   "source": [
    "convert_ts = udf(lambda x: datetime.datetime.fromtimestamp(x / 1000.0).strftime(\"%Y-%m-%d %H:%M:%S\"))\n",
    "df2 = df2.withColumn('activity_time', convert_ts('ts'))\n",
    "df2 = df2.withColumn('registration_time', convert_ts('registration'))"
   ]
  },
  {
   "cell_type": "code",
   "execution_count": null,
   "metadata": {},
   "outputs": [
    {
     "name": "stdout",
     "output_type": "stream",
     "text": [
      "+------+------+\n",
      "|userId|errors|\n",
      "+------+------+\n",
      "|    51|     2|\n",
      "|   205|     1|\n",
      "|   282|     4|\n",
      "|   232|     1|\n",
      "|    15|     1|\n",
      "|   234|     2|\n",
      "|   155|     1|\n",
      "|   101|     6|\n",
      "|   279|     3|\n",
      "|   138|     1|\n",
      "|300017|     4|\n",
      "|    29|     5|\n",
      "|    69|     1|\n",
      "|    42|     4|\n",
      "|300033|     1|\n",
      "|    87|     5|\n",
      "|    73|     1|\n",
      "|300035|     5|\n",
      "|    30|     7|\n",
      "|   113|     2|\n",
      "+------+------+\n",
      "only showing top 20 rows\n",
      "\n"
     ]
    }
   ],
   "source": [
    "f10 = df2 \\\n",
    "    .select('userId', 'page') \\\n",
    "    .where(df2.page == 'Error') \\\n",
    "    .groupBy('userId') \\\n",
    "    .count() \\\n",
    "    .withColumnRenamed('count', 'errors')\n",
    "f10.show()"
   ]
  },
  {
   "cell_type": "markdown",
   "metadata": {},
   "source": [
    "**F11: Churn Label**"
   ]
  },
  {
   "cell_type": "code",
   "execution_count": null,
   "metadata": {
    "scrolled": true
   },
   "outputs": [
    {
     "name": "stdout",
     "output_type": "stream",
     "text": [
      "+------+-----+\n",
      "|userId|label|\n",
      "+------+-----+\n",
      "|100010|    1|\n",
      "|200002|    1|\n",
      "|   296|    1|\n",
      "|   125|    0|\n",
      "|   124|    1|\n",
      "|    51|    1|\n",
      "|     7|    0|\n",
      "|200037|    1|\n",
      "|   169|    0|\n",
      "|   205|    0|\n",
      "|   272|    0|\n",
      "|    15|    0|\n",
      "|   232|    0|\n",
      "|   234|    1|\n",
      "|   282|    0|\n",
      "|    54|    1|\n",
      "|   155|    0|\n",
      "|200043|    0|\n",
      "|100014|    1|\n",
      "|   132|    1|\n",
      "+------+-----+\n",
      "only showing top 20 rows\n",
      "\n"
     ]
    }
   ],
   "source": [
    "f11_label = df2 \\\n",
    "    .select('userId', col('churn').alias('label').cast('int')) \\\n",
    "    .dropDuplicates() \n",
    "\n",
    "f11_label.show()"
   ]
  },
  {
   "cell_type": "markdown",
   "metadata": {},
   "source": [
    "**Merge all the features and label**"
   ]
  },
  {
   "cell_type": "code",
   "execution_count": null,
   "metadata": {
    "scrolled": true
   },
   "outputs": [
    {
     "name": "stdout",
     "output_type": "stream",
     "text": [
      "+-----------+-------+------------------+------------+--------------+------------+-------------+------+-----+------+-----+\n",
      "|total_songs|adverts|  songs_persession|num_thumbsup|num_thumbsdown|num_playlist|friends_added|gender|level|errors|label|\n",
      "+-----------+-------+------------------+------------+--------------+------------+-------------+------+-----+------+-----+\n",
      "|        328|      1|              53.2|          16|             1|           8|            3|     0|    1|     2|    1|\n",
      "|       2325|     38| 81.56521739130434|          97|            17|          61|           43|     1|    0|     1|    0|\n",
      "|       2325|     38| 81.56521739130434|          97|            17|          61|           43|     1|    1|     1|    0|\n",
      "|       2021|     30| 72.78260869565217|          91|            22|          51|           17|     0|    0|     2|    1|\n",
      "|       2021|     30| 72.78260869565217|          91|            22|          51|           17|     0|    1|     2|    1|\n",
      "|       3191|     37| 93.89285714285714|         133|            29|          66|           79|     0|    0|     4|    0|\n",
      "|       3191|     37| 93.89285714285714|         133|            29|          66|           79|     0|    1|     4|    0|\n",
      "|       6842|      6|108.39622641509433|         305|            55|         165|          117|     0|    0|     6|    0|\n",
      "|       6842|      6|108.39622641509433|         305|            55|         165|          117|     0|    1|     6|    0|\n",
      "|        620|     11|55.111111111111114|          22|             3|          14|            8|     1|    1|     3|    0|\n",
      "|        620|     11|55.111111111111114|          22|             3|          14|            8|     1|    0|     3|    0|\n",
      "|        576|     37| 33.38461538461539|          27|             4|          10|            7|     0|    0|     1|    0|\n",
      "|       5266|      5| 61.18571428571428|         388|            25|         125|           98|     1|    1|     4|    0|\n",
      "|       2350|     73|  48.8974358974359|          90|            17|          48|           40|     0|    1|     5|    0|\n",
      "|       2350|     73|  48.8974358974359|          90|            17|          48|           40|     0|    0|     5|    0|\n",
      "|        684|     28| 49.81818181818182|          25|             4|          17|           13|     1|    0|     1|    0|\n",
      "|        684|     28| 49.81818181818182|          25|             4|          17|           13|     1|    1|     1|    0|\n",
      "|       4952|    101| 79.80392156862744|         187|            41|         111|           71|     1|    0|     4|    0|\n",
      "|       4952|    101| 79.80392156862744|         187|            41|         111|           71|     1|    1|     4|    0|\n",
      "|        307|     20|              20.0|           9|             1|           5|            4|     1|    0|     1|    0|\n",
      "+-----------+-------+------------------+------------+--------------+------------+-------------+------+-----+------+-----+\n",
      "only showing top 20 rows\n",
      "\n"
     ]
    }
   ],
   "source": [
    "merged_features = f1.join(f2,'userId','inner') \\\n",
    "    .join(f3,'userId','inner') \\\n",
    "    .join(f4,'userId','inner') \\\n",
    "    .join(f5,'userId','inner') \\\n",
    "    .join(f6,'userId','inner') \\\n",
    "    .join(f7,'userId','inner') \\\n",
    "    .join(f8,'userId','inner') \\\n",
    "    .join(f9,'userId','inner') \\\n",
    "    .join(f10,'userId','inner') \\\n",
    "    .join(f11_label,'userId','inner') \\\n",
    "    .drop('userId') \\\n",
    "    .fillna(0)\n",
    "\n",
    "merged_features.show()"
   ]
  },
  {
   "cell_type": "markdown",
   "metadata": {},
   "source": [
    "### Modeling\n",
    "\n",
    "Split the full dataset into train and test sets. Test out several of the machine learning methods you learned. Evaluate the accuracy of the various models, tuning parameters as necessary. Determine the winning model based on test accuracy and report results on the test set. Since the churned users are a fairly small subset, I basically used the F-1 score as the metric to optimize."
   ]
  },
  {
   "cell_type": "markdown",
   "metadata": {},
   "source": [
    "#### Data Pre-Processing"
   ]
  },
  {
   "cell_type": "markdown",
   "metadata": {},
   "source": [
    "**Vectorize the features for training, validation and testing**"
   ]
  },
  {
   "cell_type": "code",
   "execution_count": null,
   "metadata": {},
   "outputs": [],
   "source": [
    "feature_columns = ['gender', 'level', 'songs_persession', 'total_songs', 'num_playlist', 'friends_added', 'errors', 'adverts', 'num_thumbsup', 'num_thumbsdown']"
   ]
  },
  {
   "cell_type": "code",
   "execution_count": null,
   "metadata": {
    "scrolled": true
   },
   "outputs": [
    {
     "name": "stdout",
     "output_type": "stream",
     "text": [
      "+-----------+-------+------------------+------------+--------------+------------+-------------+------+-----+------+-----+--------------------+\n",
      "|total_songs|adverts|  songs_persession|num_thumbsup|num_thumbsdown|num_playlist|friends_added|gender|level|errors|label|  vectorizedFeatures|\n",
      "+-----------+-------+------------------+------------+--------------+------------+-------------+------+-----+------+-----+--------------------+\n",
      "|        328|      1|              53.2|          16|             1|           8|            3|     0|    1|     2|    1|[0.0,1.0,53.2,328...|\n",
      "|       2325|     38| 81.56521739130434|          97|            17|          61|           43|     1|    0|     1|    0|[1.0,0.0,81.56521...|\n",
      "|       2325|     38| 81.56521739130434|          97|            17|          61|           43|     1|    1|     1|    0|[1.0,1.0,81.56521...|\n",
      "|       2021|     30| 72.78260869565217|          91|            22|          51|           17|     0|    1|     2|    1|[0.0,1.0,72.78260...|\n",
      "|       2021|     30| 72.78260869565217|          91|            22|          51|           17|     0|    0|     2|    1|[0.0,0.0,72.78260...|\n",
      "|       3191|     37| 93.89285714285714|         133|            29|          66|           79|     0|    0|     4|    0|[0.0,0.0,93.89285...|\n",
      "|       3191|     37| 93.89285714285714|         133|            29|          66|           79|     0|    1|     4|    0|[0.0,1.0,93.89285...|\n",
      "|       6842|      6|108.39622641509433|         305|            55|         165|          117|     0|    0|     6|    0|[0.0,0.0,108.3962...|\n",
      "|       6842|      6|108.39622641509433|         305|            55|         165|          117|     0|    1|     6|    0|[0.0,1.0,108.3962...|\n",
      "|        620|     11|55.111111111111114|          22|             3|          14|            8|     1|    1|     3|    0|[1.0,1.0,55.11111...|\n",
      "|        620|     11|55.111111111111114|          22|             3|          14|            8|     1|    0|     3|    0|[1.0,0.0,55.11111...|\n",
      "|        576|     37| 33.38461538461539|          27|             4|          10|            7|     0|    0|     1|    0|[0.0,0.0,33.38461...|\n",
      "|       5266|      5| 61.18571428571428|         388|            25|         125|           98|     1|    1|     4|    0|[1.0,1.0,61.18571...|\n",
      "|       2350|     73|  48.8974358974359|          90|            17|          48|           40|     0|    1|     5|    0|[0.0,1.0,48.89743...|\n",
      "|       2350|     73|  48.8974358974359|          90|            17|          48|           40|     0|    0|     5|    0|[0.0,0.0,48.89743...|\n",
      "|        684|     28| 49.81818181818182|          25|             4|          17|           13|     1|    0|     1|    0|[1.0,0.0,49.81818...|\n",
      "|        684|     28| 49.81818181818182|          25|             4|          17|           13|     1|    1|     1|    0|[1.0,1.0,49.81818...|\n",
      "|       4952|    101| 79.80392156862744|         187|            41|         111|           71|     1|    0|     4|    0|[1.0,0.0,79.80392...|\n",
      "|       4952|    101| 79.80392156862744|         187|            41|         111|           71|     1|    1|     4|    0|[1.0,1.0,79.80392...|\n",
      "|        307|     20|              20.0|           9|             1|           5|            4|     1|    0|     1|    0|[1.0,0.0,20.0,307...|\n",
      "+-----------+-------+------------------+------------+--------------+------------+-------------+------+-----+------+-----+--------------------+\n",
      "only showing top 20 rows\n",
      "\n"
     ]
    }
   ],
   "source": [
    "vec_assembler = VectorAssembler(inputCols=feature_columns, outputCol=\"vectorizedFeatures\")\n",
    "vec_data = vec_assembler.transform(merged_features)\n",
    "vec_data.show()"
   ]
  },
  {
   "cell_type": "markdown",
   "metadata": {},
   "source": [
    "**Standardize the features**. This step takes care of values with very wide margins from the rest of the data. The data is rescaled int a certain range in order to make two different attributes to be directly comparable. This also means massaging the data into a normal range. \n",
    "\n",
    "This is achieved by subtracting the mean of each feature divided by each features standard deviation, `x' = (x - avg(x))/stddev`\n",
    "\n",
    "Where `x` is the original feature vector, `avg(x)` is the mean of that feature vector, and `stddev` is its standard deviation."
   ]
  },
  {
   "cell_type": "markdown",
   "metadata": {},
   "source": [
    "**Standard Scaler**"
   ]
  },
  {
   "cell_type": "code",
   "execution_count": null,
   "metadata": {
    "scrolled": true
   },
   "outputs": [],
   "source": [
    "std_scaler= StandardScaler(inputCol=\"vectorizedFeatures\", outputCol=(\"features\"), withStd=True)\n",
    "std_scaler = std_scaler.fit(vec_data)\n",
    "vec_data = std_scaler.transform(vec_data)"
   ]
  },
  {
   "cell_type": "code",
   "execution_count": null,
   "metadata": {},
   "outputs": [
    {
     "data": {
      "text/plain": [
       "Row(total_songs=328, adverts=1, songs_persession=53.2, num_thumbsup=16, num_thumbsdown=1, num_playlist=8, friends_added=3, gender=0, level=1, errors=2, label=1, vectorizedFeatures=DenseVector([0.0, 1.0, 53.2, 328.0, 8.0, 3.0, 2.0, 1.0, 16.0, 1.0]), features=DenseVector([0.0, 1.9972, 1.6951, 0.2009, 0.1996, 0.1105, 1.0834, 0.0376, 0.1895, 0.0628]))"
      ]
     },
     "execution_count": 48,
     "metadata": {},
     "output_type": "execute_result"
    }
   ],
   "source": [
    "vec_data.head()"
   ]
  },
  {
   "cell_type": "code",
   "execution_count": null,
   "metadata": {},
   "outputs": [],
   "source": [
    "vec_data = vec_data.select(['label', 'features'])\n",
    "vec_data = vec_data.selectExpr(\"label as label\", \"features as features\")"
   ]
  },
  {
   "cell_type": "markdown",
   "metadata": {},
   "source": [
    "#### Data Splitting for Modeling"
   ]
  },
  {
   "cell_type": "markdown",
   "metadata": {},
   "source": [
    "Split the data for developing our model into train and test."
   ]
  },
  {
   "cell_type": "code",
   "execution_count": null,
   "metadata": {},
   "outputs": [],
   "source": [
    "train, test = vec_data.randomSplit([0.7, 0.3], seed=42)\n",
    "# test, validation = rest.randomSplit([0.3, 0.7], seed=42)"
   ]
  },
  {
   "cell_type": "code",
   "execution_count": null,
   "metadata": {
    "scrolled": true
   },
   "outputs": [
    {
     "name": "stdout",
     "output_type": "stream",
     "text": [
      "root\n",
      " |-- label: integer (nullable = true)\n",
      " |-- features: vector (nullable = true)\n",
      "\n"
     ]
    }
   ],
   "source": [
    "train.printSchema()"
   ]
  },
  {
   "cell_type": "code",
   "execution_count": null,
   "metadata": {},
   "outputs": [
    {
     "name": "stdout",
     "output_type": "stream",
     "text": [
      "root\n",
      " |-- label: integer (nullable = true)\n",
      " |-- features: vector (nullable = true)\n",
      "\n"
     ]
    }
   ],
   "source": [
    "test.printSchema()"
   ]
  },
  {
   "cell_type": "code",
   "execution_count": null,
   "metadata": {},
   "outputs": [],
   "source": [
    "# validation.printSchema()"
   ]
  },
  {
   "cell_type": "markdown",
   "metadata": {},
   "source": [
    "**Baseline Model**"
   ]
  },
  {
   "cell_type": "markdown",
   "metadata": {},
   "source": [
    "Using binary models where all users cancel as `(churn=1)` and all users stay of the platform as `churn=0`. Performance of these 2 models will be based on their accuracy and f1-score."
   ]
  },
  {
   "cell_type": "code",
   "execution_count": null,
   "metadata": {
    "scrolled": true
   },
   "outputs": [
    {
     "name": "stdout",
     "output_type": "stream",
     "text": [
      "Baseline evaluation:\n",
      "Accuracy:0.7747747747747747\n",
      "F-1 Score: 0.6764531028490418\n"
     ]
    }
   ],
   "source": [
    "base_0 = test.withColumn('prediction', lit(0.0))\n",
    "\n",
    "test_eval = MulticlassClassificationEvaluator(predictionCol=\"prediction\")\n",
    "print(\"Baseline evaluation:\")\n",
    "print(\"Accuracy:{}\".format(test_eval.evaluate(base_0, \\\n",
    "                                              {test_eval.metricName: \"accuracy\"})))\n",
    "\n",
    "print(\"F-1 Score: {}\".format(test_eval.evaluate(base_0, \\\n",
    "                                                {test_eval.metricName: \"f1\"})))"
   ]
  },
  {
   "cell_type": "code",
   "execution_count": null,
   "metadata": {},
   "outputs": [
    {
     "data": {
      "text/plain": [
       "Row(label=0, features=DenseVector([0.0, 0.0, 2.9917, 1.954, 1.6464, 2.9106, 2.1668, 1.3921, 1.5756, 1.8212]), prediction=0.0)"
      ]
     },
     "execution_count": 55,
     "metadata": {},
     "output_type": "execute_result"
    }
   ],
   "source": [
    "base_0.head()"
   ]
  },
  {
   "cell_type": "code",
   "execution_count": null,
   "metadata": {},
   "outputs": [
    {
     "name": "stdout",
     "output_type": "stream",
     "text": [
      "Baseline evaluation:\n",
      "Accuracy:0.22522522522522523\n",
      "F-1 Score: 0.08280339162692105\n"
     ]
    }
   ],
   "source": [
    "base_1 = test.withColumn('prediction', lit(1.0))\n",
    "\n",
    "test_eval = MulticlassClassificationEvaluator(predictionCol=\"prediction\")\n",
    "print(\"Baseline evaluation:\")\n",
    "print(\"Accuracy:{}\".format(test_eval.evaluate(base_1, {test_eval.metricName: \"accuracy\"})))\n",
    "print(\"F-1 Score: {}\".format(test_eval.evaluate(base_1, {test_eval.metricName: \"f1\"})))"
   ]
  },
  {
   "cell_type": "code",
   "execution_count": null,
   "metadata": {},
   "outputs": [
    {
     "data": {
      "text/plain": [
       "Row(label=0, features=DenseVector([0.0, 0.0, 2.9917, 1.954, 1.6464, 2.9106, 2.1668, 1.3921, 1.5756, 1.8212]), prediction=1.0)"
      ]
     },
     "execution_count": 57,
     "metadata": {},
     "output_type": "execute_result"
    }
   ],
   "source": [
    "base_1.head()"
   ]
  },
  {
   "cell_type": "markdown",
   "metadata": {},
   "source": [
    "### Random Forest"
   ]
  },
  {
   "cell_type": "code",
   "execution_count": null,
   "metadata": {},
   "outputs": [],
   "source": [
    "# initialize classifier\n",
    "random_forest = RandomForestClassifier()\n",
    "\n",
    "# set evaluator\n",
    "f1_eval = MulticlassClassificationEvaluator(metricName='f1')\n",
    "\n",
    "# build paramGrid\n",
    "paramGrid = ParamGridBuilder().build()\n",
    "\n",
    "crossval_rf = CrossValidator(estimator=random_forest,\n",
    "                          estimatorParamMaps=paramGrid,\n",
    "                          evaluator=f1_eval,\n",
    "                          numFolds=2)\n",
    "\n"
   ]
  },
  {
   "cell_type": "code",
   "execution_count": null,
   "metadata": {
    "scrolled": true
   },
   "outputs": [
    {
     "name": "stdout",
     "output_type": "stream",
     "text": [
      "Training completed after 197.6955485343933 seconds\n"
     ]
    }
   ],
   "source": [
    "start = time()\n",
    "cvModel_rf = crossval_rf.fit(train)\n",
    "cvModel_rf.save('cvModel_rf.model')\n",
    "end = time()\n",
    "cvModel_rf.avgMetrics\n",
    "print('Training completed after {} seconds'.format(end - start))\n",
    "\n"
   ]
  },
  {
   "cell_type": "code",
   "execution_count": null,
   "metadata": {},
   "outputs": [],
   "source": [
    "result_rf = cvModel_rf.transform(test)"
   ]
  },
  {
   "cell_type": "code",
   "execution_count": null,
   "metadata": {
    "scrolled": false
   },
   "outputs": [
    {
     "name": "stdout",
     "output_type": "stream",
     "text": [
      "Evaluation Metrics from Random Forest:\n",
      "Accuracy:0.8198198198198198\n",
      "F-1 Score: 0.777678994784258\n"
     ]
    }
   ],
   "source": [
    "test_eval = MulticlassClassificationEvaluator(predictionCol=\"prediction\")\n",
    "print(\"Evaluation Metrics from Random Forest:\")\n",
    "\n",
    "print(\"Accuracy:{}\".format(test_eval.evaluate(result_rf, \\\n",
    "                                              {test_eval.metricName: \"accuracy\"})))\n",
    "\n",
    "print(\"F-1 Score: {}\".format(test_eval.evaluate(result_rf, \\\n",
    "                                                {test_eval.metricName: \"f1\"})))\n"
   ]
  },
  {
   "cell_type": "markdown",
   "metadata": {},
   "source": [
    "### Logistic Regression"
   ]
  },
  {
   "cell_type": "code",
   "execution_count": null,
   "metadata": {},
   "outputs": [],
   "source": [
    "# initialize classifier\n",
    "logreg = LogisticRegression(maxIter=10)\n",
    "\n",
    "# set evaluator\n",
    "f1_eval = MulticlassClassificationEvaluator(metricName='f1')\n",
    "\n",
    "# build paramGrid\n",
    "paramGrid = ParamGridBuilder().build()\n",
    "\n",
    "crossval_logreg = CrossValidator(estimator=logreg,\n",
    "                          evaluator=f1_eval, \n",
    "                          estimatorParamMaps=paramGrid,\n",
    "                          numFolds=2)"
   ]
  },
  {
   "cell_type": "code",
   "execution_count": null,
   "metadata": {},
   "outputs": [
    {
     "name": "stdout",
     "output_type": "stream",
     "text": [
      "Training completed in 144.39231276512146 seconds\n"
     ]
    }
   ],
   "source": [
    "start = time()\n",
    "cvModel_logreg = crossval_logreg.fit(train)\n",
    "cvModel_logreg.save('cvModel_logreg.model')\n",
    "end = time()\n",
    "cvModel_logreg.avgMetrics\n",
    "print('Training completed in {} seconds'.format(end - start))"
   ]
  },
  {
   "cell_type": "code",
   "execution_count": null,
   "metadata": {
    "scrolled": true
   },
   "outputs": [
    {
     "name": "stdout",
     "output_type": "stream",
     "text": [
      "Evaluation from Logistic Regression:\n",
      "Accuracy: 0.7837837837837838\n",
      "F-1 Score:0.7332147937411095\n"
     ]
    }
   ],
   "source": [
    "result_logreg = cvModel_logreg.transform(test)\n",
    "\n",
    "test_eval = MulticlassClassificationEvaluator(predictionCol=\"prediction\")\n",
    "\n",
    "print('Evaluation from Logistic Regression:')\n",
    "print('Accuracy: {}'.format(test_eval.evaluate(result_logreg, \\\n",
    "                                               {test_eval.metricName: \"accuracy\"})))\n",
    "\n",
    "print('F-1 Score:{}'.format(test_eval.evaluate(result_logreg, \\\n",
    "                                               {test_eval.metricName: \"f1\"})))"
   ]
  },
  {
   "cell_type": "markdown",
   "metadata": {},
   "source": [
    "### Gradient Boosting Trees (GBT)"
   ]
  },
  {
   "cell_type": "markdown",
   "metadata": {},
   "source": [
    "Gradient Boosting: GBT build trees one at a time, where each new tree helps to correct errors made by previously trained tree."
   ]
  },
  {
   "cell_type": "code",
   "execution_count": null,
   "metadata": {},
   "outputs": [],
   "source": [
    "# initialize classifier\n",
    "gbt = GBTClassifier(maxIter=10,seed=42)\n",
    "\n",
    "# set evaluator\n",
    "f1_eval = MulticlassClassificationEvaluator(metricName='f1')\n",
    "\n",
    "# build paramGrid\n",
    "paramGrid = ParamGridBuilder().build()\n",
    "\n",
    "crossval_gbt = CrossValidator(estimator=gbt,\n",
    "                          estimatorParamMaps=paramGrid,\n",
    "                          evaluator=f1_eval,\n",
    "                          numFolds=2)"
   ]
  },
  {
   "cell_type": "code",
   "execution_count": null,
   "metadata": {
    "scrolled": true
   },
   "outputs": [],
   "source": [
    "start = time()\n",
    "cvModel_gbt = crossval_gbt.fit(train)\n",
    "cvModel_gbt.save('cvModel_gbt.model')\n",
    "end = time()\n",
    "cvModel_gbt.avgMetrics\n",
    "print('Training completed in {} minutes'.format(end - start))"
   ]
  },
  {
   "cell_type": "code",
   "execution_count": null,
   "metadata": {},
   "outputs": [],
   "source": [
    "result_gbt = cvModel_gbt.transform(test)"
   ]
  },
  {
   "cell_type": "code",
   "execution_count": null,
   "metadata": {
    "scrolled": false
   },
   "outputs": [],
   "source": [
    "test_eval = MulticlassClassificationEvaluator(predictionCol=\"prediction\")\n",
    "\n",
    "print('Evaluation from Gradient Boosted Trees:')\n",
    "print('Accuracy: {}'.format(test_eval.evaluate(result_gbt, \\\n",
    "                                               {test_eval.metricName: \"accuracy\"})))\n",
    "\n",
    "print('F-1 Score:{}'.format(test_eval.evaluate(result_gbt, \\\n",
    "                                               {test_eval.metricName: \"f1\"})))"
   ]
  },
  {
   "cell_type": "markdown",
   "metadata": {},
   "source": [
    "The time and resources that went into training the 3 models is quiite significant.\n",
    "From the 3 different models trained here, it is more beneficial and cost effective to choose the best performing model."
   ]
  },
  {
   "cell_type": "markdown",
   "metadata": {},
   "source": [
    "**Choose the best Model**"
   ]
  },
  {
   "cell_type": "code",
   "execution_count": null,
   "metadata": {},
   "outputs": [],
   "source": [
    "gbt_final = GBTClassifier(maxIter=10,seed=42, maxDepth=4)\n",
    "best_model = gbt_final.fit(train)\n",
    "final_model = best_model.transform(test)"
   ]
  },
  {
   "cell_type": "markdown",
   "metadata": {},
   "source": [
    "**Final evaluation metrics from chosen model**"
   ]
  },
  {
   "cell_type": "code",
   "execution_count": null,
   "metadata": {},
   "outputs": [],
   "source": [
    "final_eval = MulticlassClassificationEvaluator(predictionCol=\"prediction\")\n",
    "\n",
    "print('Final Test Metrics from Gradient Boosted Trees:')\n",
    "print('Accuracy: {}'.format(final_eval.evaluate(final_model, \\\n",
    "                                                {final_eval.metricName: \"accuracy\"})))\n",
    "print('F-1 Score:{}'.format(final_eval.evaluate(final_model, \\\n",
    "                                                {final_eval.metricName: \"f1\"})))"
   ]
  },
  {
   "cell_type": "markdown",
   "metadata": {},
   "source": [
    "### Confusion Matrix of the Selected Model (GBT)"
   ]
  },
  {
   "cell_type": "code",
   "execution_count": null,
   "metadata": {},
   "outputs": [],
   "source": [
    "tp = final_model.filter(\"label = 1 and prediction = 1\").count()\n",
    "fp = final_model.filter(\"label = 0 and prediction = 1\").count()\n",
    "fn = final_model.filter(\"label = 1 and prediction = 0\").count()\n",
    "\n",
    "precision = tp / (tp + fp) \n",
    "recall = tp / (tp + fn)\n",
    "F1 = 2*precision*recall / (precision+recall)\n",
    "print(precision, recall, F1)\n"
   ]
  },
  {
   "cell_type": "code",
   "execution_count": null,
   "metadata": {},
   "outputs": [],
   "source": []
  }
 ],
 "metadata": {
  "kernelspec": {
   "display_name": "Python 3.6 with Spark",
   "language": "python3",
   "name": "python36"
  },
  "language_info": {
   "codemirror_mode": {
    "name": "ipython",
    "version": 3
   },
   "file_extension": ".py",
   "mimetype": "text/x-python",
   "name": "python",
   "nbconvert_exporter": "python",
   "pygments_lexer": "ipython3",
   "version": "3.6.8"
  }
 },
 "nbformat": 4,
 "nbformat_minor": 1
}
